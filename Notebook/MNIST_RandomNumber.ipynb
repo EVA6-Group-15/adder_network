{
  "nbformat": 4,
  "nbformat_minor": 0,
  "metadata": {
    "colab": {
      "name": "MNIST_RandomNumber.ipynb",
      "provenance": [],
      "collapsed_sections": [],
      "toc_visible": true,
      "machine_shape": "hm",
      "include_colab_link": true
    },
    "kernelspec": {
      "name": "python3",
      "display_name": "Python 3"
    },
    "accelerator": "GPU",
    "widgets": {
      "application/vnd.jupyter.widget-state+json": {
        "aef1e97c27d54a6696797a03b6145508": {
          "model_module": "@jupyter-widgets/controls",
          "model_name": "HBoxModel",
          "state": {
            "_view_name": "HBoxView",
            "_dom_classes": [],
            "_model_name": "HBoxModel",
            "_view_module": "@jupyter-widgets/controls",
            "_model_module_version": "1.5.0",
            "_view_count": null,
            "_view_module_version": "1.5.0",
            "box_style": "",
            "layout": "IPY_MODEL_1d7246a228ff42e9a3b94e58181f4f26",
            "_model_module": "@jupyter-widgets/controls",
            "children": [
              "IPY_MODEL_8339a5756cf744b0a3cb4987a0aeb15e",
              "IPY_MODEL_e24cc4ebe5804c21b4244e7a403cbc0a"
            ]
          }
        },
        "1d7246a228ff42e9a3b94e58181f4f26": {
          "model_module": "@jupyter-widgets/base",
          "model_name": "LayoutModel",
          "state": {
            "_view_name": "LayoutView",
            "grid_template_rows": null,
            "right": null,
            "justify_content": null,
            "_view_module": "@jupyter-widgets/base",
            "overflow": null,
            "_model_module_version": "1.2.0",
            "_view_count": null,
            "flex_flow": null,
            "width": null,
            "min_width": null,
            "border": null,
            "align_items": null,
            "bottom": null,
            "_model_module": "@jupyter-widgets/base",
            "top": null,
            "grid_column": null,
            "overflow_y": null,
            "overflow_x": null,
            "grid_auto_flow": null,
            "grid_area": null,
            "grid_template_columns": null,
            "flex": null,
            "_model_name": "LayoutModel",
            "justify_items": null,
            "grid_row": null,
            "max_height": null,
            "align_content": null,
            "visibility": null,
            "align_self": null,
            "height": null,
            "min_height": null,
            "padding": null,
            "grid_auto_rows": null,
            "grid_gap": null,
            "max_width": null,
            "order": null,
            "_view_module_version": "1.2.0",
            "grid_template_areas": null,
            "object_position": null,
            "object_fit": null,
            "grid_auto_columns": null,
            "margin": null,
            "display": null,
            "left": null
          }
        },
        "8339a5756cf744b0a3cb4987a0aeb15e": {
          "model_module": "@jupyter-widgets/controls",
          "model_name": "FloatProgressModel",
          "state": {
            "_view_name": "ProgressView",
            "style": "IPY_MODEL_77550c69d12f45bf90bc903660fa42cc",
            "_dom_classes": [],
            "description": "",
            "_model_name": "FloatProgressModel",
            "bar_style": "success",
            "max": 9912422,
            "_view_module": "@jupyter-widgets/controls",
            "_model_module_version": "1.5.0",
            "value": 9912422,
            "_view_count": null,
            "_view_module_version": "1.5.0",
            "orientation": "horizontal",
            "min": 0,
            "description_tooltip": null,
            "_model_module": "@jupyter-widgets/controls",
            "layout": "IPY_MODEL_d7cf0f4ad3754b04b90f57d32ceaf0f3"
          }
        },
        "e24cc4ebe5804c21b4244e7a403cbc0a": {
          "model_module": "@jupyter-widgets/controls",
          "model_name": "HTMLModel",
          "state": {
            "_view_name": "HTMLView",
            "style": "IPY_MODEL_991ac08b49b84c8aa155bbe0e55f66e0",
            "_dom_classes": [],
            "description": "",
            "_model_name": "HTMLModel",
            "placeholder": "​",
            "_view_module": "@jupyter-widgets/controls",
            "_model_module_version": "1.5.0",
            "value": " 9913344/? [03:49&lt;00:00, 43214.82it/s]",
            "_view_count": null,
            "_view_module_version": "1.5.0",
            "description_tooltip": null,
            "_model_module": "@jupyter-widgets/controls",
            "layout": "IPY_MODEL_7efe22a93d0f457e975e1b22de3b108d"
          }
        },
        "77550c69d12f45bf90bc903660fa42cc": {
          "model_module": "@jupyter-widgets/controls",
          "model_name": "ProgressStyleModel",
          "state": {
            "_view_name": "StyleView",
            "_model_name": "ProgressStyleModel",
            "description_width": "initial",
            "_view_module": "@jupyter-widgets/base",
            "_model_module_version": "1.5.0",
            "_view_count": null,
            "_view_module_version": "1.2.0",
            "bar_color": null,
            "_model_module": "@jupyter-widgets/controls"
          }
        },
        "d7cf0f4ad3754b04b90f57d32ceaf0f3": {
          "model_module": "@jupyter-widgets/base",
          "model_name": "LayoutModel",
          "state": {
            "_view_name": "LayoutView",
            "grid_template_rows": null,
            "right": null,
            "justify_content": null,
            "_view_module": "@jupyter-widgets/base",
            "overflow": null,
            "_model_module_version": "1.2.0",
            "_view_count": null,
            "flex_flow": null,
            "width": null,
            "min_width": null,
            "border": null,
            "align_items": null,
            "bottom": null,
            "_model_module": "@jupyter-widgets/base",
            "top": null,
            "grid_column": null,
            "overflow_y": null,
            "overflow_x": null,
            "grid_auto_flow": null,
            "grid_area": null,
            "grid_template_columns": null,
            "flex": null,
            "_model_name": "LayoutModel",
            "justify_items": null,
            "grid_row": null,
            "max_height": null,
            "align_content": null,
            "visibility": null,
            "align_self": null,
            "height": null,
            "min_height": null,
            "padding": null,
            "grid_auto_rows": null,
            "grid_gap": null,
            "max_width": null,
            "order": null,
            "_view_module_version": "1.2.0",
            "grid_template_areas": null,
            "object_position": null,
            "object_fit": null,
            "grid_auto_columns": null,
            "margin": null,
            "display": null,
            "left": null
          }
        },
        "991ac08b49b84c8aa155bbe0e55f66e0": {
          "model_module": "@jupyter-widgets/controls",
          "model_name": "DescriptionStyleModel",
          "state": {
            "_view_name": "StyleView",
            "_model_name": "DescriptionStyleModel",
            "description_width": "",
            "_view_module": "@jupyter-widgets/base",
            "_model_module_version": "1.5.0",
            "_view_count": null,
            "_view_module_version": "1.2.0",
            "_model_module": "@jupyter-widgets/controls"
          }
        },
        "7efe22a93d0f457e975e1b22de3b108d": {
          "model_module": "@jupyter-widgets/base",
          "model_name": "LayoutModel",
          "state": {
            "_view_name": "LayoutView",
            "grid_template_rows": null,
            "right": null,
            "justify_content": null,
            "_view_module": "@jupyter-widgets/base",
            "overflow": null,
            "_model_module_version": "1.2.0",
            "_view_count": null,
            "flex_flow": null,
            "width": null,
            "min_width": null,
            "border": null,
            "align_items": null,
            "bottom": null,
            "_model_module": "@jupyter-widgets/base",
            "top": null,
            "grid_column": null,
            "overflow_y": null,
            "overflow_x": null,
            "grid_auto_flow": null,
            "grid_area": null,
            "grid_template_columns": null,
            "flex": null,
            "_model_name": "LayoutModel",
            "justify_items": null,
            "grid_row": null,
            "max_height": null,
            "align_content": null,
            "visibility": null,
            "align_self": null,
            "height": null,
            "min_height": null,
            "padding": null,
            "grid_auto_rows": null,
            "grid_gap": null,
            "max_width": null,
            "order": null,
            "_view_module_version": "1.2.0",
            "grid_template_areas": null,
            "object_position": null,
            "object_fit": null,
            "grid_auto_columns": null,
            "margin": null,
            "display": null,
            "left": null
          }
        },
        "c4e79ad230d24a86bc1b74534b151525": {
          "model_module": "@jupyter-widgets/controls",
          "model_name": "HBoxModel",
          "state": {
            "_view_name": "HBoxView",
            "_dom_classes": [],
            "_model_name": "HBoxModel",
            "_view_module": "@jupyter-widgets/controls",
            "_model_module_version": "1.5.0",
            "_view_count": null,
            "_view_module_version": "1.5.0",
            "box_style": "",
            "layout": "IPY_MODEL_24e2ebfc84434fd98a5d426dd0ea86c0",
            "_model_module": "@jupyter-widgets/controls",
            "children": [
              "IPY_MODEL_808224b74f5a4ea28198549c333b41d0",
              "IPY_MODEL_f6e60d6cba3e437d95c3d3c170fc1b16"
            ]
          }
        },
        "24e2ebfc84434fd98a5d426dd0ea86c0": {
          "model_module": "@jupyter-widgets/base",
          "model_name": "LayoutModel",
          "state": {
            "_view_name": "LayoutView",
            "grid_template_rows": null,
            "right": null,
            "justify_content": null,
            "_view_module": "@jupyter-widgets/base",
            "overflow": null,
            "_model_module_version": "1.2.0",
            "_view_count": null,
            "flex_flow": null,
            "width": null,
            "min_width": null,
            "border": null,
            "align_items": null,
            "bottom": null,
            "_model_module": "@jupyter-widgets/base",
            "top": null,
            "grid_column": null,
            "overflow_y": null,
            "overflow_x": null,
            "grid_auto_flow": null,
            "grid_area": null,
            "grid_template_columns": null,
            "flex": null,
            "_model_name": "LayoutModel",
            "justify_items": null,
            "grid_row": null,
            "max_height": null,
            "align_content": null,
            "visibility": null,
            "align_self": null,
            "height": null,
            "min_height": null,
            "padding": null,
            "grid_auto_rows": null,
            "grid_gap": null,
            "max_width": null,
            "order": null,
            "_view_module_version": "1.2.0",
            "grid_template_areas": null,
            "object_position": null,
            "object_fit": null,
            "grid_auto_columns": null,
            "margin": null,
            "display": null,
            "left": null
          }
        },
        "808224b74f5a4ea28198549c333b41d0": {
          "model_module": "@jupyter-widgets/controls",
          "model_name": "FloatProgressModel",
          "state": {
            "_view_name": "ProgressView",
            "style": "IPY_MODEL_e249b251800f4fc38ddb612466f0f702",
            "_dom_classes": [],
            "description": "",
            "_model_name": "FloatProgressModel",
            "bar_style": "success",
            "max": 28881,
            "_view_module": "@jupyter-widgets/controls",
            "_model_module_version": "1.5.0",
            "value": 28881,
            "_view_count": null,
            "_view_module_version": "1.5.0",
            "orientation": "horizontal",
            "min": 0,
            "description_tooltip": null,
            "_model_module": "@jupyter-widgets/controls",
            "layout": "IPY_MODEL_5d5594629e03442d98a205a84bcc6681"
          }
        },
        "f6e60d6cba3e437d95c3d3c170fc1b16": {
          "model_module": "@jupyter-widgets/controls",
          "model_name": "HTMLModel",
          "state": {
            "_view_name": "HTMLView",
            "style": "IPY_MODEL_e77643c0ce4b4107a923d320916fbec7",
            "_dom_classes": [],
            "description": "",
            "_model_name": "HTMLModel",
            "placeholder": "​",
            "_view_module": "@jupyter-widgets/controls",
            "_model_module_version": "1.5.0",
            "value": " 29696/? [00:00&lt;00:00, 102841.28it/s]",
            "_view_count": null,
            "_view_module_version": "1.5.0",
            "description_tooltip": null,
            "_model_module": "@jupyter-widgets/controls",
            "layout": "IPY_MODEL_5879898b7e484ff59a18f80544c3d5df"
          }
        },
        "e249b251800f4fc38ddb612466f0f702": {
          "model_module": "@jupyter-widgets/controls",
          "model_name": "ProgressStyleModel",
          "state": {
            "_view_name": "StyleView",
            "_model_name": "ProgressStyleModel",
            "description_width": "initial",
            "_view_module": "@jupyter-widgets/base",
            "_model_module_version": "1.5.0",
            "_view_count": null,
            "_view_module_version": "1.2.0",
            "bar_color": null,
            "_model_module": "@jupyter-widgets/controls"
          }
        },
        "5d5594629e03442d98a205a84bcc6681": {
          "model_module": "@jupyter-widgets/base",
          "model_name": "LayoutModel",
          "state": {
            "_view_name": "LayoutView",
            "grid_template_rows": null,
            "right": null,
            "justify_content": null,
            "_view_module": "@jupyter-widgets/base",
            "overflow": null,
            "_model_module_version": "1.2.0",
            "_view_count": null,
            "flex_flow": null,
            "width": null,
            "min_width": null,
            "border": null,
            "align_items": null,
            "bottom": null,
            "_model_module": "@jupyter-widgets/base",
            "top": null,
            "grid_column": null,
            "overflow_y": null,
            "overflow_x": null,
            "grid_auto_flow": null,
            "grid_area": null,
            "grid_template_columns": null,
            "flex": null,
            "_model_name": "LayoutModel",
            "justify_items": null,
            "grid_row": null,
            "max_height": null,
            "align_content": null,
            "visibility": null,
            "align_self": null,
            "height": null,
            "min_height": null,
            "padding": null,
            "grid_auto_rows": null,
            "grid_gap": null,
            "max_width": null,
            "order": null,
            "_view_module_version": "1.2.0",
            "grid_template_areas": null,
            "object_position": null,
            "object_fit": null,
            "grid_auto_columns": null,
            "margin": null,
            "display": null,
            "left": null
          }
        },
        "e77643c0ce4b4107a923d320916fbec7": {
          "model_module": "@jupyter-widgets/controls",
          "model_name": "DescriptionStyleModel",
          "state": {
            "_view_name": "StyleView",
            "_model_name": "DescriptionStyleModel",
            "description_width": "",
            "_view_module": "@jupyter-widgets/base",
            "_model_module_version": "1.5.0",
            "_view_count": null,
            "_view_module_version": "1.2.0",
            "_model_module": "@jupyter-widgets/controls"
          }
        },
        "5879898b7e484ff59a18f80544c3d5df": {
          "model_module": "@jupyter-widgets/base",
          "model_name": "LayoutModel",
          "state": {
            "_view_name": "LayoutView",
            "grid_template_rows": null,
            "right": null,
            "justify_content": null,
            "_view_module": "@jupyter-widgets/base",
            "overflow": null,
            "_model_module_version": "1.2.0",
            "_view_count": null,
            "flex_flow": null,
            "width": null,
            "min_width": null,
            "border": null,
            "align_items": null,
            "bottom": null,
            "_model_module": "@jupyter-widgets/base",
            "top": null,
            "grid_column": null,
            "overflow_y": null,
            "overflow_x": null,
            "grid_auto_flow": null,
            "grid_area": null,
            "grid_template_columns": null,
            "flex": null,
            "_model_name": "LayoutModel",
            "justify_items": null,
            "grid_row": null,
            "max_height": null,
            "align_content": null,
            "visibility": null,
            "align_self": null,
            "height": null,
            "min_height": null,
            "padding": null,
            "grid_auto_rows": null,
            "grid_gap": null,
            "max_width": null,
            "order": null,
            "_view_module_version": "1.2.0",
            "grid_template_areas": null,
            "object_position": null,
            "object_fit": null,
            "grid_auto_columns": null,
            "margin": null,
            "display": null,
            "left": null
          }
        },
        "1a47eec654c3402983588880347a38dd": {
          "model_module": "@jupyter-widgets/controls",
          "model_name": "HBoxModel",
          "state": {
            "_view_name": "HBoxView",
            "_dom_classes": [],
            "_model_name": "HBoxModel",
            "_view_module": "@jupyter-widgets/controls",
            "_model_module_version": "1.5.0",
            "_view_count": null,
            "_view_module_version": "1.5.0",
            "box_style": "",
            "layout": "IPY_MODEL_47287696b6544d26994bbf0eda32e704",
            "_model_module": "@jupyter-widgets/controls",
            "children": [
              "IPY_MODEL_0415615897fd462fa6d0d6d5fb0b5c7c",
              "IPY_MODEL_4e59bc71155f46b28b2789edf9d1a014"
            ]
          }
        },
        "47287696b6544d26994bbf0eda32e704": {
          "model_module": "@jupyter-widgets/base",
          "model_name": "LayoutModel",
          "state": {
            "_view_name": "LayoutView",
            "grid_template_rows": null,
            "right": null,
            "justify_content": null,
            "_view_module": "@jupyter-widgets/base",
            "overflow": null,
            "_model_module_version": "1.2.0",
            "_view_count": null,
            "flex_flow": null,
            "width": null,
            "min_width": null,
            "border": null,
            "align_items": null,
            "bottom": null,
            "_model_module": "@jupyter-widgets/base",
            "top": null,
            "grid_column": null,
            "overflow_y": null,
            "overflow_x": null,
            "grid_auto_flow": null,
            "grid_area": null,
            "grid_template_columns": null,
            "flex": null,
            "_model_name": "LayoutModel",
            "justify_items": null,
            "grid_row": null,
            "max_height": null,
            "align_content": null,
            "visibility": null,
            "align_self": null,
            "height": null,
            "min_height": null,
            "padding": null,
            "grid_auto_rows": null,
            "grid_gap": null,
            "max_width": null,
            "order": null,
            "_view_module_version": "1.2.0",
            "grid_template_areas": null,
            "object_position": null,
            "object_fit": null,
            "grid_auto_columns": null,
            "margin": null,
            "display": null,
            "left": null
          }
        },
        "0415615897fd462fa6d0d6d5fb0b5c7c": {
          "model_module": "@jupyter-widgets/controls",
          "model_name": "FloatProgressModel",
          "state": {
            "_view_name": "ProgressView",
            "style": "IPY_MODEL_5252f3ae88454ad9968c910cd94fbfaf",
            "_dom_classes": [],
            "description": "",
            "_model_name": "FloatProgressModel",
            "bar_style": "success",
            "max": 1648877,
            "_view_module": "@jupyter-widgets/controls",
            "_model_module_version": "1.5.0",
            "value": 1648877,
            "_view_count": null,
            "_view_module_version": "1.5.0",
            "orientation": "horizontal",
            "min": 0,
            "description_tooltip": null,
            "_model_module": "@jupyter-widgets/controls",
            "layout": "IPY_MODEL_35522d1ef54a45028a379fa1b622f3df"
          }
        },
        "4e59bc71155f46b28b2789edf9d1a014": {
          "model_module": "@jupyter-widgets/controls",
          "model_name": "HTMLModel",
          "state": {
            "_view_name": "HTMLView",
            "style": "IPY_MODEL_5f14f0626c3c418eb96b93820854fcd3",
            "_dom_classes": [],
            "description": "",
            "_model_name": "HTMLModel",
            "placeholder": "​",
            "_view_module": "@jupyter-widgets/controls",
            "_model_module_version": "1.5.0",
            "value": " 1649664/? [00:01&lt;00:00, 891578.75it/s]",
            "_view_count": null,
            "_view_module_version": "1.5.0",
            "description_tooltip": null,
            "_model_module": "@jupyter-widgets/controls",
            "layout": "IPY_MODEL_8425c0f5c64d467e83c3e22b05f9df2f"
          }
        },
        "5252f3ae88454ad9968c910cd94fbfaf": {
          "model_module": "@jupyter-widgets/controls",
          "model_name": "ProgressStyleModel",
          "state": {
            "_view_name": "StyleView",
            "_model_name": "ProgressStyleModel",
            "description_width": "initial",
            "_view_module": "@jupyter-widgets/base",
            "_model_module_version": "1.5.0",
            "_view_count": null,
            "_view_module_version": "1.2.0",
            "bar_color": null,
            "_model_module": "@jupyter-widgets/controls"
          }
        },
        "35522d1ef54a45028a379fa1b622f3df": {
          "model_module": "@jupyter-widgets/base",
          "model_name": "LayoutModel",
          "state": {
            "_view_name": "LayoutView",
            "grid_template_rows": null,
            "right": null,
            "justify_content": null,
            "_view_module": "@jupyter-widgets/base",
            "overflow": null,
            "_model_module_version": "1.2.0",
            "_view_count": null,
            "flex_flow": null,
            "width": null,
            "min_width": null,
            "border": null,
            "align_items": null,
            "bottom": null,
            "_model_module": "@jupyter-widgets/base",
            "top": null,
            "grid_column": null,
            "overflow_y": null,
            "overflow_x": null,
            "grid_auto_flow": null,
            "grid_area": null,
            "grid_template_columns": null,
            "flex": null,
            "_model_name": "LayoutModel",
            "justify_items": null,
            "grid_row": null,
            "max_height": null,
            "align_content": null,
            "visibility": null,
            "align_self": null,
            "height": null,
            "min_height": null,
            "padding": null,
            "grid_auto_rows": null,
            "grid_gap": null,
            "max_width": null,
            "order": null,
            "_view_module_version": "1.2.0",
            "grid_template_areas": null,
            "object_position": null,
            "object_fit": null,
            "grid_auto_columns": null,
            "margin": null,
            "display": null,
            "left": null
          }
        },
        "5f14f0626c3c418eb96b93820854fcd3": {
          "model_module": "@jupyter-widgets/controls",
          "model_name": "DescriptionStyleModel",
          "state": {
            "_view_name": "StyleView",
            "_model_name": "DescriptionStyleModel",
            "description_width": "",
            "_view_module": "@jupyter-widgets/base",
            "_model_module_version": "1.5.0",
            "_view_count": null,
            "_view_module_version": "1.2.0",
            "_model_module": "@jupyter-widgets/controls"
          }
        },
        "8425c0f5c64d467e83c3e22b05f9df2f": {
          "model_module": "@jupyter-widgets/base",
          "model_name": "LayoutModel",
          "state": {
            "_view_name": "LayoutView",
            "grid_template_rows": null,
            "right": null,
            "justify_content": null,
            "_view_module": "@jupyter-widgets/base",
            "overflow": null,
            "_model_module_version": "1.2.0",
            "_view_count": null,
            "flex_flow": null,
            "width": null,
            "min_width": null,
            "border": null,
            "align_items": null,
            "bottom": null,
            "_model_module": "@jupyter-widgets/base",
            "top": null,
            "grid_column": null,
            "overflow_y": null,
            "overflow_x": null,
            "grid_auto_flow": null,
            "grid_area": null,
            "grid_template_columns": null,
            "flex": null,
            "_model_name": "LayoutModel",
            "justify_items": null,
            "grid_row": null,
            "max_height": null,
            "align_content": null,
            "visibility": null,
            "align_self": null,
            "height": null,
            "min_height": null,
            "padding": null,
            "grid_auto_rows": null,
            "grid_gap": null,
            "max_width": null,
            "order": null,
            "_view_module_version": "1.2.0",
            "grid_template_areas": null,
            "object_position": null,
            "object_fit": null,
            "grid_auto_columns": null,
            "margin": null,
            "display": null,
            "left": null
          }
        },
        "e08f74c4c996407d840356398fc69162": {
          "model_module": "@jupyter-widgets/controls",
          "model_name": "HBoxModel",
          "state": {
            "_view_name": "HBoxView",
            "_dom_classes": [],
            "_model_name": "HBoxModel",
            "_view_module": "@jupyter-widgets/controls",
            "_model_module_version": "1.5.0",
            "_view_count": null,
            "_view_module_version": "1.5.0",
            "box_style": "",
            "layout": "IPY_MODEL_40cf2fb4bd1348f9939d753d891ca129",
            "_model_module": "@jupyter-widgets/controls",
            "children": [
              "IPY_MODEL_d369802c38a64e48838c6a730c3607fb",
              "IPY_MODEL_ec9b3d44af4145c396e4645f9d8cb393"
            ]
          }
        },
        "40cf2fb4bd1348f9939d753d891ca129": {
          "model_module": "@jupyter-widgets/base",
          "model_name": "LayoutModel",
          "state": {
            "_view_name": "LayoutView",
            "grid_template_rows": null,
            "right": null,
            "justify_content": null,
            "_view_module": "@jupyter-widgets/base",
            "overflow": null,
            "_model_module_version": "1.2.0",
            "_view_count": null,
            "flex_flow": null,
            "width": null,
            "min_width": null,
            "border": null,
            "align_items": null,
            "bottom": null,
            "_model_module": "@jupyter-widgets/base",
            "top": null,
            "grid_column": null,
            "overflow_y": null,
            "overflow_x": null,
            "grid_auto_flow": null,
            "grid_area": null,
            "grid_template_columns": null,
            "flex": null,
            "_model_name": "LayoutModel",
            "justify_items": null,
            "grid_row": null,
            "max_height": null,
            "align_content": null,
            "visibility": null,
            "align_self": null,
            "height": null,
            "min_height": null,
            "padding": null,
            "grid_auto_rows": null,
            "grid_gap": null,
            "max_width": null,
            "order": null,
            "_view_module_version": "1.2.0",
            "grid_template_areas": null,
            "object_position": null,
            "object_fit": null,
            "grid_auto_columns": null,
            "margin": null,
            "display": null,
            "left": null
          }
        },
        "d369802c38a64e48838c6a730c3607fb": {
          "model_module": "@jupyter-widgets/controls",
          "model_name": "FloatProgressModel",
          "state": {
            "_view_name": "ProgressView",
            "style": "IPY_MODEL_560649d59fac411b8d9dfbc0fe2cf070",
            "_dom_classes": [],
            "description": "",
            "_model_name": "FloatProgressModel",
            "bar_style": "success",
            "max": 4542,
            "_view_module": "@jupyter-widgets/controls",
            "_model_module_version": "1.5.0",
            "value": 4542,
            "_view_count": null,
            "_view_module_version": "1.5.0",
            "orientation": "horizontal",
            "min": 0,
            "description_tooltip": null,
            "_model_module": "@jupyter-widgets/controls",
            "layout": "IPY_MODEL_ed45a82a709b48fd84e09193967c71d3"
          }
        },
        "ec9b3d44af4145c396e4645f9d8cb393": {
          "model_module": "@jupyter-widgets/controls",
          "model_name": "HTMLModel",
          "state": {
            "_view_name": "HTMLView",
            "style": "IPY_MODEL_00241e2139e4402e87b9134b14bc3fa7",
            "_dom_classes": [],
            "description": "",
            "_model_name": "HTMLModel",
            "placeholder": "​",
            "_view_module": "@jupyter-widgets/controls",
            "_model_module_version": "1.5.0",
            "value": " 5120/? [00:00&lt;00:00, 12476.63it/s]",
            "_view_count": null,
            "_view_module_version": "1.5.0",
            "description_tooltip": null,
            "_model_module": "@jupyter-widgets/controls",
            "layout": "IPY_MODEL_4c4faa27adc14d768619df47147972ef"
          }
        },
        "560649d59fac411b8d9dfbc0fe2cf070": {
          "model_module": "@jupyter-widgets/controls",
          "model_name": "ProgressStyleModel",
          "state": {
            "_view_name": "StyleView",
            "_model_name": "ProgressStyleModel",
            "description_width": "initial",
            "_view_module": "@jupyter-widgets/base",
            "_model_module_version": "1.5.0",
            "_view_count": null,
            "_view_module_version": "1.2.0",
            "bar_color": null,
            "_model_module": "@jupyter-widgets/controls"
          }
        },
        "ed45a82a709b48fd84e09193967c71d3": {
          "model_module": "@jupyter-widgets/base",
          "model_name": "LayoutModel",
          "state": {
            "_view_name": "LayoutView",
            "grid_template_rows": null,
            "right": null,
            "justify_content": null,
            "_view_module": "@jupyter-widgets/base",
            "overflow": null,
            "_model_module_version": "1.2.0",
            "_view_count": null,
            "flex_flow": null,
            "width": null,
            "min_width": null,
            "border": null,
            "align_items": null,
            "bottom": null,
            "_model_module": "@jupyter-widgets/base",
            "top": null,
            "grid_column": null,
            "overflow_y": null,
            "overflow_x": null,
            "grid_auto_flow": null,
            "grid_area": null,
            "grid_template_columns": null,
            "flex": null,
            "_model_name": "LayoutModel",
            "justify_items": null,
            "grid_row": null,
            "max_height": null,
            "align_content": null,
            "visibility": null,
            "align_self": null,
            "height": null,
            "min_height": null,
            "padding": null,
            "grid_auto_rows": null,
            "grid_gap": null,
            "max_width": null,
            "order": null,
            "_view_module_version": "1.2.0",
            "grid_template_areas": null,
            "object_position": null,
            "object_fit": null,
            "grid_auto_columns": null,
            "margin": null,
            "display": null,
            "left": null
          }
        },
        "00241e2139e4402e87b9134b14bc3fa7": {
          "model_module": "@jupyter-widgets/controls",
          "model_name": "DescriptionStyleModel",
          "state": {
            "_view_name": "StyleView",
            "_model_name": "DescriptionStyleModel",
            "description_width": "",
            "_view_module": "@jupyter-widgets/base",
            "_model_module_version": "1.5.0",
            "_view_count": null,
            "_view_module_version": "1.2.0",
            "_model_module": "@jupyter-widgets/controls"
          }
        },
        "4c4faa27adc14d768619df47147972ef": {
          "model_module": "@jupyter-widgets/base",
          "model_name": "LayoutModel",
          "state": {
            "_view_name": "LayoutView",
            "grid_template_rows": null,
            "right": null,
            "justify_content": null,
            "_view_module": "@jupyter-widgets/base",
            "overflow": null,
            "_model_module_version": "1.2.0",
            "_view_count": null,
            "flex_flow": null,
            "width": null,
            "min_width": null,
            "border": null,
            "align_items": null,
            "bottom": null,
            "_model_module": "@jupyter-widgets/base",
            "top": null,
            "grid_column": null,
            "overflow_y": null,
            "overflow_x": null,
            "grid_auto_flow": null,
            "grid_area": null,
            "grid_template_columns": null,
            "flex": null,
            "_model_name": "LayoutModel",
            "justify_items": null,
            "grid_row": null,
            "max_height": null,
            "align_content": null,
            "visibility": null,
            "align_self": null,
            "height": null,
            "min_height": null,
            "padding": null,
            "grid_auto_rows": null,
            "grid_gap": null,
            "max_width": null,
            "order": null,
            "_view_module_version": "1.2.0",
            "grid_template_areas": null,
            "object_position": null,
            "object_fit": null,
            "grid_auto_columns": null,
            "margin": null,
            "display": null,
            "left": null
          }
        }
      }
    }
  },
  "cells": [
    {
      "cell_type": "markdown",
      "metadata": {
        "id": "view-in-github",
        "colab_type": "text"
      },
      "source": [
        "<a href=\"https://colab.research.google.com/github/EVA6-Group-15/adder_network/blob/master/MNIST_RandomNumber.ipynb\" target=\"_parent\"><img src=\"https://colab.research.google.com/assets/colab-badge.svg\" alt=\"Open In Colab\"/></a>"
      ]
    },
    {
      "cell_type": "markdown",
      "metadata": {
        "id": "EdHVQrqyDB50"
      },
      "source": [
        "# Memory Information"
      ]
    },
    {
      "cell_type": "markdown",
      "metadata": {
        "id": "Zk7m7upvCUnq"
      },
      "source": [
        "### Checking The Memory Details"
      ]
    },
    {
      "cell_type": "code",
      "metadata": {
        "id": "E58HaeA6CsM9",
        "colab": {
          "base_uri": "https://localhost:8080/"
        },
        "outputId": "ecdfaa32-8084-48f1-b2e0-16b03f7f52fa"
      },
      "source": [
        "import psutil\n",
        "def get_size(bytes, suffix=\"B\"):\n",
        "    factor = 1024\n",
        "    for unit in [\"\", \"K\", \"M\", \"G\", \"T\", \"P\"]:\n",
        "        if bytes < factor:\n",
        "            return f\"{bytes:.2f}{unit}{suffix}\"\n",
        "        bytes /= factor\n",
        "print(\"=\"*40, \"Memory Information\", \"=\"*40)\n",
        "svmem = psutil.virtual_memory()\n",
        "print(f\"Total: {get_size(svmem.total)}\") ; print(f\"Available: {get_size(svmem.available)}\")\n",
        "print(f\"Used: {get_size(svmem.used)}\") ; print(f\"Percentage: {svmem.percent}%\")"
      ],
      "execution_count": 1,
      "outputs": [
        {
          "output_type": "stream",
          "text": [
            "======================================== Memory Information ========================================\n",
            "Total: 12.69GB\n",
            "Available: 11.88GB\n",
            "Used: 543.45MB\n",
            "Percentage: 6.3%\n"
          ],
          "name": "stdout"
        }
      ]
    },
    {
      "cell_type": "markdown",
      "metadata": {
        "id": "FgVfBlvZDEja"
      },
      "source": [
        "# GPU Information"
      ]
    },
    {
      "cell_type": "markdown",
      "metadata": {
        "id": "AVz3MecaCYoh"
      },
      "source": [
        "### Checking GPU Infor"
      ]
    },
    {
      "cell_type": "code",
      "metadata": {
        "id": "rxlkxvkrCyin",
        "colab": {
          "base_uri": "https://localhost:8080/"
        },
        "outputId": "a088caae-3cad-42a5-b7ab-fe21f2614b22"
      },
      "source": [
        "! nvidia-smi"
      ],
      "execution_count": 2,
      "outputs": [
        {
          "output_type": "stream",
          "text": [
            "Fri May 21 06:26:22 2021       \n",
            "+-----------------------------------------------------------------------------+\n",
            "| NVIDIA-SMI 465.19.01    Driver Version: 460.32.03    CUDA Version: 11.2     |\n",
            "|-------------------------------+----------------------+----------------------+\n",
            "| GPU  Name        Persistence-M| Bus-Id        Disp.A | Volatile Uncorr. ECC |\n",
            "| Fan  Temp  Perf  Pwr:Usage/Cap|         Memory-Usage | GPU-Util  Compute M. |\n",
            "|                               |                      |               MIG M. |\n",
            "|===============================+======================+======================|\n",
            "|   0  Tesla T4            Off  | 00000000:00:04.0 Off |                    0 |\n",
            "| N/A   53C    P8    11W /  70W |      0MiB / 15109MiB |      0%      Default |\n",
            "|                               |                      |                  N/A |\n",
            "+-------------------------------+----------------------+----------------------+\n",
            "                                                                               \n",
            "+-----------------------------------------------------------------------------+\n",
            "| Processes:                                                                  |\n",
            "|  GPU   GI   CI        PID   Type   Process name                  GPU Memory |\n",
            "|        ID   ID                                                   Usage      |\n",
            "|=============================================================================|\n",
            "|  No running processes found                                                 |\n",
            "+-----------------------------------------------------------------------------+\n"
          ],
          "name": "stdout"
        }
      ]
    },
    {
      "cell_type": "markdown",
      "metadata": {
        "id": "k3V-7UAuCdfB"
      },
      "source": [
        "# Dataset Creation using MNIST Data and Random Number - Basic Iteration\n",
        "Here the Data is first Created, by giving the MNIST Image and The Random Number. The final objective of Sum is not being implemented yet.\n",
        "\n",
        "First trying to check, if model can predict MINST Image Number and Random Number separately."
      ]
    },
    {
      "cell_type": "code",
      "metadata": {
        "id": "jyDODoaWC6KI",
        "colab": {
          "base_uri": "https://localhost:8080/"
        },
        "outputId": "87e8c385-ada2-45d9-bbcd-7f396133293f"
      },
      "source": [
        "import torch\n",
        "import torchvision\n",
        "import torchvision.transforms as transforms\n",
        "\n",
        "torch.manual_seed(1)"
      ],
      "execution_count": 3,
      "outputs": [
        {
          "output_type": "execute_result",
          "data": {
            "text/plain": [
              "<torch._C.Generator at 0x7efce4e984f0>"
            ]
          },
          "metadata": {
            "tags": []
          },
          "execution_count": 3
        }
      ]
    },
    {
      "cell_type": "markdown",
      "metadata": {
        "id": "Z1wvPqNOCw5g"
      },
      "source": [
        "### Downloading MNIST Data"
      ]
    },
    {
      "cell_type": "code",
      "metadata": {
        "id": "shSUwZJU8Mr8",
        "outputId": "d9dbd0cb-f1a2-43ed-c819-5e3bcbaa351b",
        "colab": {
          "base_uri": "https://localhost:8080/",
          "height": 845,
          "referenced_widgets": [
            "aef1e97c27d54a6696797a03b6145508",
            "1d7246a228ff42e9a3b94e58181f4f26",
            "8339a5756cf744b0a3cb4987a0aeb15e",
            "e24cc4ebe5804c21b4244e7a403cbc0a",
            "77550c69d12f45bf90bc903660fa42cc",
            "d7cf0f4ad3754b04b90f57d32ceaf0f3",
            "991ac08b49b84c8aa155bbe0e55f66e0",
            "7efe22a93d0f457e975e1b22de3b108d",
            "c4e79ad230d24a86bc1b74534b151525",
            "24e2ebfc84434fd98a5d426dd0ea86c0",
            "808224b74f5a4ea28198549c333b41d0",
            "f6e60d6cba3e437d95c3d3c170fc1b16",
            "e249b251800f4fc38ddb612466f0f702",
            "5d5594629e03442d98a205a84bcc6681",
            "e77643c0ce4b4107a923d320916fbec7",
            "5879898b7e484ff59a18f80544c3d5df",
            "1a47eec654c3402983588880347a38dd",
            "47287696b6544d26994bbf0eda32e704",
            "0415615897fd462fa6d0d6d5fb0b5c7c",
            "4e59bc71155f46b28b2789edf9d1a014",
            "5252f3ae88454ad9968c910cd94fbfaf",
            "35522d1ef54a45028a379fa1b622f3df",
            "5f14f0626c3c418eb96b93820854fcd3",
            "8425c0f5c64d467e83c3e22b05f9df2f",
            "e08f74c4c996407d840356398fc69162",
            "40cf2fb4bd1348f9939d753d891ca129",
            "d369802c38a64e48838c6a730c3607fb",
            "ec9b3d44af4145c396e4645f9d8cb393",
            "560649d59fac411b8d9dfbc0fe2cf070",
            "ed45a82a709b48fd84e09193967c71d3",
            "00241e2139e4402e87b9134b14bc3fa7",
            "4c4faa27adc14d768619df47147972ef"
          ]
        }
      },
      "source": [
        "train_set = torchvision.datasets.MNIST(\n",
        "    root='./MNISTdata'\n",
        "    ,train=True #Training Data of 60k Images\n",
        "    ,download=True\n",
        ")"
      ],
      "execution_count": 4,
      "outputs": [
        {
          "output_type": "stream",
          "text": [
            "Downloading http://yann.lecun.com/exdb/mnist/train-images-idx3-ubyte.gz\n",
            "Failed to download (trying next):\n",
            "HTTP Error 503: Service Unavailable\n",
            "\n",
            "Downloading https://ossci-datasets.s3.amazonaws.com/mnist/train-images-idx3-ubyte.gz\n",
            "Downloading https://ossci-datasets.s3.amazonaws.com/mnist/train-images-idx3-ubyte.gz to ./MNISTdata/MNIST/raw/train-images-idx3-ubyte.gz\n"
          ],
          "name": "stdout"
        },
        {
          "output_type": "display_data",
          "data": {
            "application/vnd.jupyter.widget-view+json": {
              "model_id": "aef1e97c27d54a6696797a03b6145508",
              "version_minor": 0,
              "version_major": 2
            },
            "text/plain": [
              "HBox(children=(FloatProgress(value=0.0, max=9912422.0), HTML(value='')))"
            ]
          },
          "metadata": {
            "tags": []
          }
        },
        {
          "output_type": "stream",
          "text": [
            "\n",
            "Extracting ./MNISTdata/MNIST/raw/train-images-idx3-ubyte.gz to ./MNISTdata/MNIST/raw\n",
            "\n",
            "Downloading http://yann.lecun.com/exdb/mnist/train-labels-idx1-ubyte.gz\n",
            "Failed to download (trying next):\n",
            "HTTP Error 503: Service Unavailable\n",
            "\n",
            "Downloading https://ossci-datasets.s3.amazonaws.com/mnist/train-labels-idx1-ubyte.gz\n",
            "Downloading https://ossci-datasets.s3.amazonaws.com/mnist/train-labels-idx1-ubyte.gz to ./MNISTdata/MNIST/raw/train-labels-idx1-ubyte.gz\n"
          ],
          "name": "stdout"
        },
        {
          "output_type": "display_data",
          "data": {
            "application/vnd.jupyter.widget-view+json": {
              "model_id": "c4e79ad230d24a86bc1b74534b151525",
              "version_minor": 0,
              "version_major": 2
            },
            "text/plain": [
              "HBox(children=(FloatProgress(value=0.0, max=28881.0), HTML(value='')))"
            ]
          },
          "metadata": {
            "tags": []
          }
        },
        {
          "output_type": "stream",
          "text": [
            "\n",
            "Extracting ./MNISTdata/MNIST/raw/train-labels-idx1-ubyte.gz to ./MNISTdata/MNIST/raw\n",
            "\n",
            "Downloading http://yann.lecun.com/exdb/mnist/t10k-images-idx3-ubyte.gz\n",
            "Failed to download (trying next):\n",
            "HTTP Error 503: Service Unavailable\n",
            "\n",
            "Downloading https://ossci-datasets.s3.amazonaws.com/mnist/t10k-images-idx3-ubyte.gz\n",
            "Downloading https://ossci-datasets.s3.amazonaws.com/mnist/t10k-images-idx3-ubyte.gz to ./MNISTdata/MNIST/raw/t10k-images-idx3-ubyte.gz\n"
          ],
          "name": "stdout"
        },
        {
          "output_type": "display_data",
          "data": {
            "application/vnd.jupyter.widget-view+json": {
              "model_id": "1a47eec654c3402983588880347a38dd",
              "version_minor": 0,
              "version_major": 2
            },
            "text/plain": [
              "HBox(children=(FloatProgress(value=0.0, max=1648877.0), HTML(value='')))"
            ]
          },
          "metadata": {
            "tags": []
          }
        },
        {
          "output_type": "stream",
          "text": [
            "\n",
            "Extracting ./MNISTdata/MNIST/raw/t10k-images-idx3-ubyte.gz to ./MNISTdata/MNIST/raw\n",
            "\n",
            "Downloading http://yann.lecun.com/exdb/mnist/t10k-labels-idx1-ubyte.gz\n",
            "Failed to download (trying next):\n",
            "HTTP Error 503: Service Unavailable\n",
            "\n",
            "Downloading https://ossci-datasets.s3.amazonaws.com/mnist/t10k-labels-idx1-ubyte.gz\n",
            "Downloading https://ossci-datasets.s3.amazonaws.com/mnist/t10k-labels-idx1-ubyte.gz to ./MNISTdata/MNIST/raw/t10k-labels-idx1-ubyte.gz\n"
          ],
          "name": "stdout"
        },
        {
          "output_type": "display_data",
          "data": {
            "application/vnd.jupyter.widget-view+json": {
              "model_id": "e08f74c4c996407d840356398fc69162",
              "version_minor": 0,
              "version_major": 2
            },
            "text/plain": [
              "HBox(children=(FloatProgress(value=0.0, max=4542.0), HTML(value='')))"
            ]
          },
          "metadata": {
            "tags": []
          }
        },
        {
          "output_type": "stream",
          "text": [
            "\n",
            "Extracting ./MNISTdata/MNIST/raw/t10k-labels-idx1-ubyte.gz to ./MNISTdata/MNIST/raw\n",
            "\n",
            "Processing...\n",
            "Done!\n"
          ],
          "name": "stdout"
        },
        {
          "output_type": "stream",
          "text": [
            "/usr/local/lib/python3.7/dist-packages/torchvision/datasets/mnist.py:502: UserWarning: The given NumPy array is not writeable, and PyTorch does not support non-writeable tensors. This means you can write to the underlying (supposedly non-writeable) NumPy array using the tensor. You may want to copy the array to protect its data or make it writeable before converting it to a tensor. This type of warning will be suppressed for the rest of this program. (Triggered internally at  /pytorch/torch/csrc/utils/tensor_numpy.cpp:143.)\n",
            "  return torch.from_numpy(parsed.astype(m[2], copy=False)).view(*s)\n"
          ],
          "name": "stderr"
        }
      ]
    },
    {
      "cell_type": "markdown",
      "metadata": {
        "id": "G6o1tKotCy54"
      },
      "source": [
        "### Creating MNIST + Random Number Dataset Class"
      ]
    },
    {
      "cell_type": "code",
      "metadata": {
        "id": "yh1f2MfV-KT6"
      },
      "source": [
        "from torch.utils.data import Dataset, DataLoader\n",
        "import random, math\n",
        "\n",
        "class MNISTRandomNumber(Dataset):\n",
        "    '''\n",
        "    Take MNIST Data Set for eith Train or Test Images.\n",
        "    Performs provided trasnformations on the MNIST Data\n",
        "    Generates a Random Number between 0 and 9\n",
        "    Creates a One Hot Encoded Vector of the Random Number generated.\n",
        "\n",
        "    Returns:\n",
        "        image : The MNIST Trasnformed Image\n",
        "        ohv_num : The One Hot encoded vector of the Random Number\n",
        "        label : The MNIST Image Label\n",
        "        number: The Random Number generated label.\n",
        "    '''\n",
        "    def __init__(self, MNIST_data, transformations):\n",
        "        self.MNIST = MNIST_data\n",
        "        self.transformations = transformations\n",
        "    \n",
        "    def __getitem__(self, index):\n",
        "        image, label = self.MNIST[index]\n",
        "        number = random.randint(0,9) #Genrating Random Number\n",
        "        image = self.transformations(image)\n",
        "        ohv_num = torch.zeros(10)\n",
        "        ohv_num[number] = 1\n",
        "\n",
        "        # Returning -> Inputs, Labels\n",
        "        # Data -> ImageData, RandomNumberVector\n",
        "        # Labels -> ImageLabel, RandomNumber \n",
        "        return ((image,ohv_num), (label,number))\n",
        "\n",
        "    def __len__(self):\n",
        "        return len(self.MNIST)\n"
      ],
      "execution_count": 5,
      "outputs": []
    },
    {
      "cell_type": "markdown",
      "metadata": {
        "id": "IAgJ29MuC14o"
      },
      "source": [
        "### Creating Training Data Set and Data Loader"
      ]
    },
    {
      "cell_type": "code",
      "metadata": {
        "id": "sNbv95vvakIo"
      },
      "source": [
        "trans = transforms.Compose([transforms.ToTensor(),\n",
        "                            transforms.Normalize((0.1307,),(0.3081,)), # Mean and Standard Deviation \n",
        "                            ])\n",
        "train_set = MNISTRandomNumber(train_set, trans)"
      ],
      "execution_count": 6,
      "outputs": []
    },
    {
      "cell_type": "code",
      "metadata": {
        "id": "DuHe-D10aoFO"
      },
      "source": [
        "train_loader = DataLoader(train_set, batch_size=256, shuffle=True, num_workers=2,\n",
        "                          pin_memory=True, drop_last=True)"
      ],
      "execution_count": 7,
      "outputs": []
    },
    {
      "cell_type": "markdown",
      "metadata": {
        "id": "yg__H8HWC5OJ"
      },
      "source": [
        "#### Plotting Few Images from Training Set"
      ]
    },
    {
      "cell_type": "code",
      "metadata": {
        "colab": {
          "base_uri": "https://localhost:8080/",
          "height": 316
        },
        "id": "xa1g9DOFhWxQ",
        "outputId": "0105b582-5ee7-46a1-f3ec-bf5ecae89113"
      },
      "source": [
        "import matplotlib.pyplot as plt\n",
        "data = train_set[33]\n",
        "plt.imshow(data[0][0].squeeze(), cmap='gray')\n",
        "print(data[0][1])\n",
        "print(data[1][0])\n",
        "print(data[1][1])"
      ],
      "execution_count": 8,
      "outputs": [
        {
          "output_type": "stream",
          "text": [
            "tensor([0., 0., 0., 0., 0., 0., 1., 0., 0., 0.])\n",
            "9\n",
            "6\n"
          ],
          "name": "stdout"
        },
        {
          "output_type": "display_data",
          "data": {
            "image/png": "[encoded data removed]",
            "text/plain": [
              "<Figure size 432x288 with 1 Axes>"
            ]
          },
          "metadata": {
            "tags": [],
            "needs_background": "light"
          }
        }
      ]
    },
    {
      "cell_type": "markdown",
      "metadata": {
        "id": "j4VzeGhXDqtp"
      },
      "source": [
        "#### Data Loader Shapes and Grid Images\n",
        "\n"
      ]
    },
    {
      "cell_type": "code",
      "metadata": {
        "id": "hD3F9wx_lD_I"
      },
      "source": [
        "sample = next(iter(train_loader))"
      ],
      "execution_count": 9,
      "outputs": []
    },
    {
      "cell_type": "code",
      "metadata": {
        "id": "BF2Kg4AFme7x"
      },
      "source": [
        "input, label = sample"
      ],
      "execution_count": 10,
      "outputs": []
    },
    {
      "cell_type": "code",
      "metadata": {
        "id": "DkmBXzW3mf74"
      },
      "source": [
        "image, num = input\n",
        "image_lab, num_lab = label"
      ],
      "execution_count": 11,
      "outputs": []
    },
    {
      "cell_type": "code",
      "metadata": {
        "colab": {
          "base_uri": "https://localhost:8080/"
        },
        "id": "LU4GIipfmjAQ",
        "outputId": "35a74d87-ecef-4670-827f-bc57109afa1c"
      },
      "source": [
        "image.shape, num.shape, image_lab.shape, num_lab.shape"
      ],
      "execution_count": 12,
      "outputs": [
        {
          "output_type": "execute_result",
          "data": {
            "text/plain": [
              "(torch.Size([256, 1, 28, 28]),\n",
              " torch.Size([256, 10]),\n",
              " torch.Size([256]),\n",
              " torch.Size([256]))"
            ]
          },
          "metadata": {
            "tags": []
          },
          "execution_count": 12
        }
      ]
    },
    {
      "cell_type": "code",
      "metadata": {
        "colab": {
          "base_uri": "https://localhost:8080/",
          "height": 356
        },
        "id": "ZDoWqYApmkR_",
        "outputId": "8550b9e2-c6fd-4597-80dc-3f561443f29a"
      },
      "source": [
        "import numpy as np\n",
        "\n",
        "grid = torchvision.utils.make_grid(image[:30], nrow=10)\n",
        "plt.figure(figsize=(15,15))\n",
        "# Torch Has Channel x Width x Heigth\n",
        "# Coverting it to Width x Heigth x Channels using Transpose\n",
        "plt.imshow(np.transpose(grid, (1,2,0))) \n",
        "print('labels:', image_lab[:30])"
      ],
      "execution_count": 13,
      "outputs": [
        {
          "output_type": "stream",
          "text": [
            "Clipping input data to the valid range for imshow with RGB data ([0..1] for floats or [0..255] for integers).\n"
          ],
          "name": "stderr"
        },
        {
          "output_type": "stream",
          "text": [
            "labels: tensor([6, 1, 4, 0, 7, 1, 8, 9, 0, 1, 2, 4, 2, 5, 9, 3, 9, 5, 1, 4, 1, 1, 3, 3,\n",
            "        2, 4, 3, 7, 8, 8])\n"
          ],
          "name": "stdout"
        },
        {
          "output_type": "display_data",
          "data": {
            "image/png": "[encoded data removed]",
            "text/plain": [
              "<Figure size 1080x1080 with 1 Axes>"
            ]
          },
          "metadata": {
            "tags": [],
            "needs_background": "light"
          }
        }
      ]
    },
    {
      "cell_type": "markdown",
      "metadata": {
        "id": "GZnGZ-VPDlHp"
      },
      "source": [
        "### Creating Test Data set and Test Data Loader"
      ]
    },
    {
      "cell_type": "code",
      "metadata": {
        "id": "ri2hDT4ufxeQ"
      },
      "source": [
        "test_set = torchvision.datasets.MNIST(\n",
        "    root='./MNISTdata'\n",
        "    ,train=False # Test Data of 10k Images\n",
        "    ,download=True\n",
        ")"
      ],
      "execution_count": 14,
      "outputs": []
    },
    {
      "cell_type": "code",
      "metadata": {
        "id": "GyKG5negk7nl"
      },
      "source": [
        "trans = transforms.Compose([transforms.ToTensor(),\n",
        "                            transforms.Normalize((0.1307,),(0.3081,)), # Mean and Standard Deviation\n",
        "                            ])\n",
        "test_set = MNISTRandomNumber(test_set, trans)"
      ],
      "execution_count": 15,
      "outputs": []
    },
    {
      "cell_type": "code",
      "metadata": {
        "id": "PKWgi8XdvmmJ"
      },
      "source": [
        "test_loader = DataLoader(test_set, batch_size=256, num_workers=2,\n",
        "                          pin_memory=True, drop_last=True)\n",
        "\n",
        "# Why pin_memory?\n",
        "# When loading samples in the Dataset on CPU and pushing it to GPU when training.\n",
        "# pin memory will let the DataLoader allocate the samples in page-locked memory, which speeds-up the transfer."
      ],
      "execution_count": 16,
      "outputs": []
    },
    {
      "cell_type": "code",
      "metadata": {
        "colab": {
          "base_uri": "https://localhost:8080/"
        },
        "id": "6gpBhX-Cnmog",
        "outputId": "68a6a67f-e59e-4153-bd92-d6a3de74ed5a"
      },
      "source": [
        "print('Random Number Input\\n',num[:5])\n",
        "print('Labels: ', num_lab[:5])"
      ],
      "execution_count": 17,
      "outputs": [
        {
          "output_type": "stream",
          "text": [
            "Random Number Input\n",
            " tensor([[0., 0., 0., 0., 0., 0., 0., 1., 0., 0.],\n",
            "        [0., 0., 0., 0., 0., 0., 0., 0., 1., 0.],\n",
            "        [0., 0., 0., 0., 0., 1., 0., 0., 0., 0.],\n",
            "        [0., 0., 0., 0., 0., 0., 0., 0., 0., 1.],\n",
            "        [1., 0., 0., 0., 0., 0., 0., 0., 0., 0.]])\n",
            "Labels:  tensor([7, 8, 5, 9, 0])\n"
          ],
          "name": "stdout"
        }
      ]
    },
    {
      "cell_type": "markdown",
      "metadata": {
        "id": "ykUr-hTGoP7B"
      },
      "source": [
        "# Building Network - Basic Iteration\n",
        "\n",
        "The Netwrok will take two Inputs:\n",
        "*   Input 1 -> MNIST Image 28x28 Grayscale\n",
        "*   Input 2 -> One Hot Encoded Tensor of Random Number\n",
        "\n",
        "The Input 1 is a pure Convolutional model, where the MNIST image is being run through several convoplutions and max pool operations, bring image size from 28x28 to 1x10 values.\n",
        "\n",
        "The Input 2 Image is being run through a linear model, with 3 fully connected layers.\n"
      ]
    },
    {
      "cell_type": "code",
      "metadata": {
        "id": "lIx3m2ZxoTyY"
      },
      "source": [
        "import torch.nn as nn\n",
        "import torch.nn.functional as F\n",
        "\n",
        "class Network(nn.Module):\n",
        "    def __init__(self):\n",
        "        super(Network, self).__init__()\n",
        "        self.layer1 = nn.Linear(10,20,bias=False)\n",
        "        self.layer2 = nn.Linear(20,100,bias=False)\n",
        "        self.layer3 = nn.Linear(100,10,bias=False)\n",
        "\n",
        "        self.conv1 = nn.Conv2d(1, 16, 3, padding=1) # 28x28x1 -> 28x28x16\n",
        "        self.conv2 = nn.Conv2d(16, 32, 3, padding=1) # 28x28x1 -> 28x28x32\n",
        "        self.pool1 = nn.MaxPool2d(2,2) # 28x28x32 -> 14x14x32\n",
        "        self.conv3 = nn.Conv2d(32, 64, 3, padding=1) # 14x14x32 -> 14x14x64\n",
        "        self.conv4 = nn.Conv2d(64, 64, 3, padding=1) # 14x14x64 -> 14x14x64\n",
        "        self.pool2 = nn.MaxPool2d(2,2) # 14x14x64 -> 7x7x64\n",
        "        self.conv5 = nn.Conv2d(64, 128, 3) # 7x7x64 -> 5x5x128\n",
        "        self.conv6 = nn.Conv2d(128, 256, 3) # 5x5x128 -> 3x3x256\n",
        "        self.conv7 = nn.Conv2d(256, 10, 3) # 3x3x10 -> 1x1x10\n",
        "\n",
        "    def forward(self, x, y):\n",
        "        x = self.pool1(F.relu(self.conv2(F.relu(self.conv1(x)))))\n",
        "        x = self.pool2(F.relu(self.conv4(F.relu(self.conv3(x)))))\n",
        "        x = F.relu(self.conv6(F.relu(self.conv5(x))))\n",
        "        x = self.conv7(x)\n",
        "        x = x.view(-1, 10)\n",
        "\n",
        "        y = self.layer1(y)\n",
        "        y = self.layer2(y)\n",
        "        y = self.layer3(y)\n",
        "        y = y.view(-1, 10)\n",
        "\n",
        "        return F.log_softmax(x, dim=1), F.log_softmax(y, dim=1)"
      ],
      "execution_count": 18,
      "outputs": []
    },
    {
      "cell_type": "markdown",
      "metadata": {
        "id": "I9bMCKjzLcxR"
      },
      "source": [
        "### Train and Test \n",
        "\n",
        "\n",
        "\n",
        "\n",
        "\n"
      ]
    },
    {
      "cell_type": "markdown",
      "metadata": {
        "id": "NIbm5XSva12a"
      },
      "source": [
        "Train - The **train** takes the train data loader, and run the batches on model, and also calculating gradients of weights, and doing back propogation from loss.\n",
        "\n",
        "\n",
        "\n",
        "*The Loss being used here is Negative Log Likelihood. Why Log likelihood and why\n",
        "negative?*\n",
        "\n",
        "*The log function goes from very small values for small input to very very large towards infinite as the input value increases. The negative of that is the value is infinite when input is zero, and reduces to very very low values (towards zero) when the input increases.*\n",
        "\n",
        "*Since, our log_softmax give higher and higher values to the correct prediction, and very low values if the prediction is off by very much.  *\n",
        "\n",
        "*We know that loss function is happy when value is low and unhappy when value is high.  \n",
        "The NLL becomes unhappy when there is wrong predictions and give a high value, where as when the prediction is correct it becomes happy and give a low value.*\n",
        "\n",
        "*Ref Image: https://pbs.twimg.com/media/DnI-aQ5V4AEIOYt?format=jpg&name=large*\n",
        "\n",
        "Test - The **test** takes the test data loader and run the trained model after every epoch, to check the results and find accuracy on UNSEEN data, which was never leaked or shown to the model during training."
      ]
    },
    {
      "cell_type": "code",
      "metadata": {
        "id": "6UzUsaSkCK94"
      },
      "source": [
        "import torch.optim as optim\n",
        "from tqdm import tqdm\n",
        "\n",
        "def train(model, train_loader, optimizer):\n",
        "    model.train()\n",
        "    pbar = tqdm(train_loader)\n",
        "    for batch_idx, (data, target) in enumerate(pbar):\n",
        "        img, lab = data[0].to('cuda'), target[0].to('cuda')\n",
        "        num, tnum = data[1].to('cuda'), target[1].to('cuda')\n",
        "        optimizer.zero_grad()\n",
        "        output = model(img, num)\n",
        "        loss1 = F.nll_loss(output[0], lab) #MNIST Loss\n",
        "        loss2 = F.nll_loss(output[1], tnum) # Random Number Loss\n",
        "        loss = loss1 + loss2\n",
        "        loss.backward()\n",
        "        optimizer.step()\n",
        "        pbar.set_description(desc= f'loss={loss.item()} batch_id={batch_idx}')\n",
        "\n",
        "def test(model, test_loader):\n",
        "    model.eval()\n",
        "    test_loss = 0\n",
        "    correct_img = 0\n",
        "    correct_num = 0\n",
        "    with torch.no_grad():\n",
        "        for data, target in test_loader:\n",
        "            img, lab = data[0].to('cuda'), target[0].to('cuda')\n",
        "            num, tnum = data[1].to('cuda'), target[1].to('cuda')\n",
        "            output = model(img, num)\n",
        "            loss1 = F.nll_loss(output[0], lab) #MNIST Loss\n",
        "            loss2 = F.nll_loss(output[1], tnum) # Random Number Loss\n",
        "            loss = loss1 + loss2\n",
        "            test_loss += loss\n",
        "            pred1 = output[0].argmax(dim=1, keepdim=True)\n",
        "            correct_img += pred1.eq(lab.view_as(pred1)).sum().item()\n",
        "            pred2 = output[1].argmax(dim=1, keepdim=True)\n",
        "            correct_num += pred2.eq(tnum.view_as(pred2)).sum().item()\n",
        "\n",
        "        test_loss /= len(test_loader)\n",
        "\n",
        "        print('\\nTest set: Average loss: {:.4f}, Accuracy1: {}/{} ({:.0f}%), Accuracy2: {}/{} ({:.0f}%)\\n'.format(\n",
        "        test_loss, correct_img, len(test_loader.dataset),\n",
        "        100. * correct_img / len(test_loader.dataset),\n",
        "        correct_num, len(test_loader.dataset),\n",
        "        100. * correct_num / len(test_loader.dataset)))"
      ],
      "execution_count": 19,
      "outputs": []
    },
    {
      "cell_type": "markdown",
      "metadata": {
        "id": "F1YRvDmEXwYq"
      },
      "source": [
        "### Running for 2 Epochs\n",
        "\n",
        "SGD Optimizer being used"
      ]
    },
    {
      "cell_type": "code",
      "metadata": {
        "colab": {
          "base_uri": "https://localhost:8080/"
        },
        "id": "u4hbwu73lGM2",
        "outputId": "f8099834-bcf7-4315-b57a-e032414fa651"
      },
      "source": [
        "model = Network().to('cuda')\n",
        "optimizer = optim.SGD(model.parameters(), lr=0.01, momentum=0.9)\n",
        "\n",
        "for epoch in range(1, 3):\n",
        "    train(model, train_loader, optimizer)\n",
        "    test(model, test_loader)"
      ],
      "execution_count": 20,
      "outputs": [
        {
          "output_type": "stream",
          "text": [
            "loss=0.22459086775779724 batch_id=233: 100%|██████████| 234/234 [00:10<00:00, 22.30it/s]\n",
            "  0%|          | 0/234 [00:00<?, ?it/s]"
          ],
          "name": "stderr"
        },
        {
          "output_type": "stream",
          "text": [
            "\n",
            "Test set: Average loss: 0.1703, Accuracy1: 9537/10000 (95%), Accuracy2: 9984/10000 (100%)\n",
            "\n"
          ],
          "name": "stdout"
        },
        {
          "output_type": "stream",
          "text": [
            "loss=0.16290603578090668 batch_id=233: 100%|██████████| 234/234 [00:10<00:00, 22.24it/s]\n"
          ],
          "name": "stderr"
        },
        {
          "output_type": "stream",
          "text": [
            "\n",
            "Test set: Average loss: 0.0878, Accuracy1: 9737/10000 (97%), Accuracy2: 9984/10000 (100%)\n",
            "\n"
          ],
          "name": "stdout"
        }
      ]
    },
    {
      "cell_type": "markdown",
      "metadata": {
        "id": "uhIc2zoPX4C5"
      },
      "source": [
        "### Manual Validation\n",
        "Checking for 30 Images from Test Data Loader and Running them on the trained Model, to see if the predicted classes are same as the ground truth labels. "
      ]
    },
    {
      "cell_type": "code",
      "metadata": {
        "id": "wE6gH4zl2NvS"
      },
      "source": [
        "sample = next(iter(train_loader))\n",
        "input, labels = sample\n",
        "image, inp_num= input\n",
        "img_label, num_label = labels\n",
        "\n",
        "output = model(image.to('cuda'), inp_num.to('cuda'))\n",
        "pred1 = output[0].argmax(dim=1)\n",
        "pred2 = output[1].argmax(dim=1)"
      ],
      "execution_count": 21,
      "outputs": []
    },
    {
      "cell_type": "code",
      "metadata": {
        "colab": {
          "base_uri": "https://localhost:8080/",
          "height": 339
        },
        "id": "GiGmb9mP3van",
        "outputId": "3cf1eb09-020a-4c75-b571-5b6bc6718109"
      },
      "source": [
        "grid = torchvision.utils.make_grid(image[:30], nrow=10)\n",
        "plt.figure(figsize=(15,15))\n",
        "plt.imshow(np.transpose(grid, (1,2,0)))"
      ],
      "execution_count": 22,
      "outputs": [
        {
          "output_type": "stream",
          "text": [
            "Clipping input data to the valid range for imshow with RGB data ([0..1] for floats or [0..255] for integers).\n"
          ],
          "name": "stderr"
        },
        {
          "output_type": "execute_result",
          "data": {
            "text/plain": [
              "<matplotlib.image.AxesImage at 0x7efcd9e81a10>"
            ]
          },
          "metadata": {
            "tags": []
          },
          "execution_count": 22
        },
        {
          "output_type": "display_data",
          "data": {
            "image/png": "[encoded data removed]",
            "text/plain": [
              "<Figure size 1080x1080 with 1 Axes>"
            ]
          },
          "metadata": {
            "tags": [],
            "needs_background": "light"
          }
        }
      ]
    },
    {
      "cell_type": "code",
      "metadata": {
        "colab": {
          "base_uri": "https://localhost:8080/"
        },
        "id": "n2StbzOl6L65",
        "outputId": "05d6ec5c-541d-444e-abd2-234e4b05c8cc"
      },
      "source": [
        "print('Ground Truth labels:', img_label[:30])\n",
        "print('Predicted labels:', pred1[:30])\n",
        "\n",
        "print('Ground Truth Number:', num_label[:30])\n",
        "print('Predicted Number:', pred2[:30])"
      ],
      "execution_count": 23,
      "outputs": [
        {
          "output_type": "stream",
          "text": [
            "Ground Truth labels: tensor([0, 1, 5, 3, 7, 1, 2, 4, 9, 9, 9, 0, 9, 7, 1, 6, 0, 9, 0, 9, 7, 3, 1, 8,\n",
            "        3, 8, 7, 9, 9, 8])\n",
            "Predicted labels: tensor([0, 1, 5, 3, 7, 1, 2, 4, 9, 9, 9, 0, 9, 7, 1, 6, 0, 9, 0, 9, 7, 3, 1, 8,\n",
            "        3, 8, 7, 9, 9, 8], device='cuda:0')\n",
            "Ground Truth Number: tensor([3, 8, 0, 0, 7, 3, 4, 5, 2, 5, 6, 2, 8, 4, 0, 5, 5, 7, 0, 0, 9, 0, 2, 4,\n",
            "        7, 2, 1, 5, 6, 1])\n",
            "Predicted Number: tensor([3, 8, 0, 0, 7, 3, 4, 5, 2, 5, 6, 2, 8, 4, 0, 5, 5, 7, 0, 0, 9, 0, 2, 4,\n",
            "        7, 2, 1, 5, 6, 1], device='cuda:0')\n"
          ],
          "name": "stdout"
        }
      ]
    },
    {
      "cell_type": "markdown",
      "metadata": {
        "id": "Jbh49W9RvF91"
      },
      "source": [
        "# Final Objective:\n",
        "\n",
        "A neural network that can:\n",
        "* Take two inputs:\n",
        "    * an image from MNIST dataset, and\n",
        "    * a random number between 0 and 9\n",
        "* Gives two outputs:\n",
        "    * the \"number\" that was represented by the MNIST image, and\n",
        "    * the \"sum\" of this number with the random number that was generated and sent as the input to the network"
      ]
    },
    {
      "cell_type": "markdown",
      "metadata": {
        "id": "Tk1FlM_AaR_C"
      },
      "source": [
        "## Creating Dataset for Outputting MNIST Prediction and Sum of MNIST and Random Number"
      ]
    },
    {
      "cell_type": "code",
      "metadata": {
        "id": "t-GNDQ2haaHJ"
      },
      "source": [
        "from torch.utils.data import Dataset, DataLoader\n",
        "import random, math\n",
        "\n",
        "class MNISTRandomNumber(Dataset):\n",
        "    '''\n",
        "    Take MNIST Data Set for eith Train or Test Images.\n",
        "    Performs provided trasnformations on the MNIST Data\n",
        "    Generates a Random Number between 0 and 9\n",
        "    Creates a One Hot Encoded Vector of the Random Number generated.\n",
        "\n",
        "    Returns:\n",
        "        image : The MNIST Trasnformed Image\n",
        "        ohv_num : The One Hot encoded vector of the Random Number\n",
        "        label : The MNIST Image Label\n",
        "        number: The SUM of MNIST Label and Random Number generated label.\n",
        "    '''\n",
        "    def __init__(self, MNIST_data, transformations):\n",
        "        self.MNIST = MNIST_data\n",
        "        self.transformations = transformations\n",
        "    \n",
        "    def __getitem__(self, index):\n",
        "        image, label = self.MNIST[index]\n",
        "        number = random.randint(0,9)\n",
        "        image = self.transformations(image)\n",
        "        ohv_num = torch.zeros(10)\n",
        "        ohv_num[number] = 1\n",
        "        \n",
        "        # Returning -> Inputs, Labels\n",
        "        # Data -> ImageData, RandomNumberVector\n",
        "        # Labels -> ImageLabel, sum(ImageLabel, RandomNumber) \n",
        "\n",
        "        return ((image,ohv_num), (label,number+label))\n",
        "\n",
        "    def __len__(self):\n",
        "        return len(self.MNIST)"
      ],
      "execution_count": 24,
      "outputs": []
    },
    {
      "cell_type": "markdown",
      "metadata": {
        "id": "jgXJFKRVYIvx"
      },
      "source": [
        "## Building Final Model\n",
        "\n",
        "This model will now output the MNIST output, and the sum of the number predicted by MNIST and the Random Number, which is the final objective."
      ]
    },
    {
      "cell_type": "code",
      "metadata": {
        "id": "TyK2JXl15a1w"
      },
      "source": [
        "import torch.nn as nn\n",
        "import torch.nn.functional as F\n",
        "\n",
        "class Network(nn.Module):\n",
        "    def __init__(self):\n",
        "        super(Network, self).__init__()\n",
        "\n",
        "        self.conv1 = nn.Conv2d(1, 16, 3, padding=1) # 28x28x1 -> 28x28x16\n",
        "        self.conv2 = nn.Conv2d(16, 32, 3, padding=1) # 28x28x1 -> 28x28x32\n",
        "        self.pool1 = nn.MaxPool2d(2,2) # 28x28x32 -> 14x14x32\n",
        "        self.conv3 = nn.Conv2d(32, 64, 3, padding=1) # 14x14x32 -> 14x14x64\n",
        "        self.conv4 = nn.Conv2d(64, 64, 3, padding=1) # 14x14x64 -> 14x14x64\n",
        "        self.pool2 = nn.MaxPool2d(2,2) # 14x14x64 -> 7x7x64\n",
        "        self.conv5 = nn.Conv2d(64, 128, 3) # 7x7x64 -> 5x5x128\n",
        "        self.conv6 = nn.Conv2d(128, 256, 3) # 5x5x128 -> 3x3x256\n",
        "        self.conv7 = nn.Conv2d(256, 10, 3) # 3x3x10 -> 1x1x10\n",
        "\n",
        "        self.layer1 = nn.Linear(20,50,bias=False)\n",
        "        self.layer2 = nn.Linear(50,100,bias=False)\n",
        "        self.layer3 = nn.Linear(100,19,bias=False)\n",
        "\n",
        "    def forward(self, x, y):\n",
        "        x = self.pool1(F.relu(self.conv2(F.relu(self.conv1(x)))))\n",
        "        x = self.pool2(F.relu(self.conv4(F.relu(self.conv3(x)))))\n",
        "        x = F.relu(self.conv6(F.relu(self.conv5(x))))\n",
        "        x = self.conv7(x)\n",
        "        x = x.view(-1, 10)\n",
        "\n",
        "        y = torch.cat((x,y),dim=1) #Horizontal Stacking. 1x10 and 1x10 -> 1x20\n",
        "\n",
        "\n",
        "        y = self.layer1(y)\n",
        "        y = self.layer2(y)\n",
        "        y = self.layer3(y)\n",
        "\n",
        "        return F.log_softmax(x, dim=1), F.log_softmax(y, dim=1) "
      ],
      "execution_count": 25,
      "outputs": []
    },
    {
      "cell_type": "markdown",
      "metadata": {
        "id": "2v3mQtbRvcD9"
      },
      "source": [
        "## Loading Datasets Creating Data Loaders"
      ]
    },
    {
      "cell_type": "code",
      "metadata": {
        "id": "JpxFqOdQZSZZ"
      },
      "source": [
        "trans = transforms.Compose([transforms.ToTensor(),\n",
        "                            transforms.Normalize((0.1307,),(0.3081,)),\n",
        "                            ])\n",
        "\n",
        "train_set = torchvision.datasets.MNIST(\n",
        "    root='./MNISTdata'\n",
        "    ,train=True\n",
        "    ,download=True\n",
        ")\n",
        "\n",
        "train_set = MNISTRandomNumber(train_set, trans)\n",
        "\n",
        "train_loader = DataLoader(train_set, batch_size=256, shuffle=True, num_workers=2,\n",
        "                          pin_memory=True, drop_last=True)\n",
        "\n",
        "test_set = torchvision.datasets.MNIST(\n",
        "    root='./MNISTdata'\n",
        "    ,train=False\n",
        "    ,download=True\n",
        ")\n",
        "\n",
        "test_set = MNISTRandomNumber(test_set, trans)\n",
        "\n",
        "test_loader = DataLoader(test_set, batch_size=256, num_workers=2,\n",
        "                          pin_memory=True, drop_last=True)"
      ],
      "execution_count": 26,
      "outputs": []
    },
    {
      "cell_type": "code",
      "metadata": {
        "id": "8gHBeAAGprUa"
      },
      "source": [
        "model = Network().to('cuda')\n",
        "\n",
        "sample = next(iter(train_loader))\n",
        "input, labels = sample\n",
        "image, inp_num= input\n",
        "img_label, num_label = labels\n",
        "\n",
        "output = model(image.to('cuda'), inp_num.to('cuda'))\n",
        "pred = output[0].argmax(dim=1)"
      ],
      "execution_count": 27,
      "outputs": []
    },
    {
      "cell_type": "markdown",
      "metadata": {
        "id": "LDzfUfmsvfcF"
      },
      "source": [
        "## Defining Train and Test Functions\n",
        "\n",
        "These functions are similar to above Train and Test Functions"
      ]
    },
    {
      "cell_type": "code",
      "metadata": {
        "id": "cBJo1LhDqYLC"
      },
      "source": [
        "import torch.optim as optim\n",
        "from tqdm import tqdm\n",
        "\n",
        "def train(model, train_loader, optimizer):\n",
        "    model.train()\n",
        "    pbar = tqdm(train_loader)\n",
        "    for batch_idx, (data, target) in enumerate(pbar):\n",
        "        img, lab = data[0].to('cuda'), target[0].to('cuda')\n",
        "        num, tnum = data[1].to('cuda'), target[1].to('cuda')\n",
        "        optimizer.zero_grad()\n",
        "        output = model(img, num)\n",
        "        loss1 = F.nll_loss(output[0], lab)\n",
        "        loss2 = F.nll_loss(output[1], tnum)\n",
        "        loss = loss1 + loss2\n",
        "        loss.backward()\n",
        "        optimizer.step()\n",
        "        pbar.set_description(desc= f'loss={loss.item()} batch_id={batch_idx}')\n",
        "\n",
        "def test(model, test_loader):\n",
        "    model.eval()\n",
        "    test_loss = 0\n",
        "    correct_img = 0\n",
        "    correct_num = 0\n",
        "    with torch.no_grad():\n",
        "        for data, target in test_loader:\n",
        "            img, lab = data[0].to('cuda'), target[0].to('cuda')\n",
        "            num, tnum = data[1].to('cuda'), target[1].to('cuda')\n",
        "            output = model(img, num)\n",
        "            loss1 = F.nll_loss(output[0], lab)\n",
        "            loss2 = F.nll_loss(output[1], tnum)\n",
        "            loss = loss1 + loss2\n",
        "            test_loss += loss\n",
        "            pred1 = output[0].argmax(dim=1, keepdim=True)\n",
        "            correct_img += pred1.eq(lab.view_as(pred1)).sum().item()\n",
        "            pred2 = output[1].argmax(dim=1, keepdim=True)\n",
        "            correct_num += pred2.eq(tnum.view_as(pred2)).sum().item()\n",
        "\n",
        "        test_loss /= len(test_loader)\n",
        "\n",
        "        print('\\nTest set: Average loss: {:.4f}, Accuracy1: {}/{} ({:.0f}%), Accuracy2: {}/{} ({:.0f}%)\\n'.format(\n",
        "        test_loss, correct_img, len(test_loader.dataset),\n",
        "        100. * correct_img / len(test_loader.dataset),\n",
        "        correct_num, len(test_loader.dataset),\n",
        "        100. * correct_num / len(test_loader.dataset)))"
      ],
      "execution_count": 28,
      "outputs": []
    },
    {
      "cell_type": "markdown",
      "metadata": {
        "id": "utkvZyDOvlCV"
      },
      "source": [
        "## Training\n",
        "**For 15 Epochs**"
      ]
    },
    {
      "cell_type": "code",
      "metadata": {
        "colab": {
          "base_uri": "https://localhost:8080/"
        },
        "id": "wONf8nLXxDWA",
        "outputId": "9b6424f6-0cf2-4f29-f53d-0fe942bf7985"
      },
      "source": [
        "model = Network().to('cuda')\n",
        "optimizer = optim.SGD(model.parameters(), lr=0.01, momentum=0.9)\n",
        "\n",
        "for epoch in range(1, 16):\n",
        "    train(model, train_loader, optimizer)\n",
        "    test(model, test_loader)"
      ],
      "execution_count": 29,
      "outputs": [
        {
          "output_type": "stream",
          "text": [
            "loss=2.525578260421753 batch_id=233: 100%|██████████| 234/234 [00:10<00:00, 22.24it/s]\n",
            "  0%|          | 0/234 [00:00<?, ?it/s]"
          ],
          "name": "stderr"
        },
        {
          "output_type": "stream",
          "text": [
            "\n",
            "Test set: Average loss: 2.4936, Accuracy1: 9517/10000 (95%), Accuracy2: 1500/10000 (15%)\n",
            "\n"
          ],
          "name": "stdout"
        },
        {
          "output_type": "stream",
          "text": [
            "loss=1.722821593284607 batch_id=233: 100%|██████████| 234/234 [00:10<00:00, 22.65it/s]\n",
            "  0%|          | 0/234 [00:00<?, ?it/s]"
          ],
          "name": "stderr"
        },
        {
          "output_type": "stream",
          "text": [
            "\n",
            "Test set: Average loss: 1.6855, Accuracy1: 9809/10000 (98%), Accuracy2: 3540/10000 (35%)\n",
            "\n"
          ],
          "name": "stdout"
        },
        {
          "output_type": "stream",
          "text": [
            "loss=1.301432728767395 batch_id=233: 100%|██████████| 234/234 [00:10<00:00, 22.06it/s]\n",
            "  0%|          | 0/234 [00:00<?, ?it/s]"
          ],
          "name": "stderr"
        },
        {
          "output_type": "stream",
          "text": [
            "\n",
            "Test set: Average loss: 1.3042, Accuracy1: 9839/10000 (98%), Accuracy2: 4987/10000 (50%)\n",
            "\n"
          ],
          "name": "stdout"
        },
        {
          "output_type": "stream",
          "text": [
            "loss=1.1098319292068481 batch_id=233: 100%|██████████| 234/234 [00:10<00:00, 22.36it/s]\n",
            "  0%|          | 0/234 [00:00<?, ?it/s]"
          ],
          "name": "stderr"
        },
        {
          "output_type": "stream",
          "text": [
            "\n",
            "Test set: Average loss: 1.1403, Accuracy1: 9864/10000 (99%), Accuracy2: 5716/10000 (57%)\n",
            "\n"
          ],
          "name": "stdout"
        },
        {
          "output_type": "stream",
          "text": [
            "loss=1.004332184791565 batch_id=233: 100%|██████████| 234/234 [00:10<00:00, 22.63it/s]\n",
            "  0%|          | 0/234 [00:00<?, ?it/s]"
          ],
          "name": "stderr"
        },
        {
          "output_type": "stream",
          "text": [
            "\n",
            "Test set: Average loss: 0.9780, Accuracy1: 9884/10000 (99%), Accuracy2: 6714/10000 (67%)\n",
            "\n"
          ],
          "name": "stdout"
        },
        {
          "output_type": "stream",
          "text": [
            "loss=0.9231316447257996 batch_id=233: 100%|██████████| 234/234 [00:10<00:00, 22.59it/s]\n",
            "  0%|          | 0/234 [00:00<?, ?it/s]"
          ],
          "name": "stderr"
        },
        {
          "output_type": "stream",
          "text": [
            "\n",
            "Test set: Average loss: 0.9152, Accuracy1: 9895/10000 (99%), Accuracy2: 6896/10000 (69%)\n",
            "\n"
          ],
          "name": "stdout"
        },
        {
          "output_type": "stream",
          "text": [
            "loss=0.6993096470832825 batch_id=233: 100%|██████████| 234/234 [00:10<00:00, 22.35it/s]\n",
            "  0%|          | 0/234 [00:00<?, ?it/s]"
          ],
          "name": "stderr"
        },
        {
          "output_type": "stream",
          "text": [
            "\n",
            "Test set: Average loss: 0.7726, Accuracy1: 9909/10000 (99%), Accuracy2: 7587/10000 (76%)\n",
            "\n"
          ],
          "name": "stdout"
        },
        {
          "output_type": "stream",
          "text": [
            "loss=0.9321732521057129 batch_id=233: 100%|██████████| 234/234 [00:10<00:00, 21.96it/s]\n",
            "  0%|          | 0/234 [00:00<?, ?it/s]"
          ],
          "name": "stderr"
        },
        {
          "output_type": "stream",
          "text": [
            "\n",
            "Test set: Average loss: 0.7329, Accuracy1: 9928/10000 (99%), Accuracy2: 7948/10000 (79%)\n",
            "\n"
          ],
          "name": "stdout"
        },
        {
          "output_type": "stream",
          "text": [
            "loss=0.6320875287055969 batch_id=233: 100%|██████████| 234/234 [00:10<00:00, 22.23it/s]\n",
            "  0%|          | 0/234 [00:00<?, ?it/s]"
          ],
          "name": "stderr"
        },
        {
          "output_type": "stream",
          "text": [
            "\n",
            "Test set: Average loss: 0.6793, Accuracy1: 9916/10000 (99%), Accuracy2: 8371/10000 (84%)\n",
            "\n"
          ],
          "name": "stdout"
        },
        {
          "output_type": "stream",
          "text": [
            "loss=0.735792338848114 batch_id=233: 100%|██████████| 234/234 [00:10<00:00, 22.01it/s]\n",
            "  0%|          | 0/234 [00:00<?, ?it/s]"
          ],
          "name": "stderr"
        },
        {
          "output_type": "stream",
          "text": [
            "\n",
            "Test set: Average loss: 0.6056, Accuracy1: 9916/10000 (99%), Accuracy2: 8418/10000 (84%)\n",
            "\n"
          ],
          "name": "stdout"
        },
        {
          "output_type": "stream",
          "text": [
            "loss=0.6364994645118713 batch_id=233: 100%|██████████| 234/234 [00:10<00:00, 22.03it/s]\n",
            "  0%|          | 0/234 [00:00<?, ?it/s]"
          ],
          "name": "stderr"
        },
        {
          "output_type": "stream",
          "text": [
            "\n",
            "Test set: Average loss: 0.5733, Accuracy1: 9917/10000 (99%), Accuracy2: 8737/10000 (87%)\n",
            "\n"
          ],
          "name": "stdout"
        },
        {
          "output_type": "stream",
          "text": [
            "loss=0.5958727598190308 batch_id=233: 100%|██████████| 234/234 [00:10<00:00, 22.09it/s]\n",
            "  0%|          | 0/234 [00:00<?, ?it/s]"
          ],
          "name": "stderr"
        },
        {
          "output_type": "stream",
          "text": [
            "\n",
            "Test set: Average loss: 0.5729, Accuracy1: 9911/10000 (99%), Accuracy2: 8586/10000 (86%)\n",
            "\n"
          ],
          "name": "stdout"
        },
        {
          "output_type": "stream",
          "text": [
            "loss=0.4966691732406616 batch_id=233: 100%|██████████| 234/234 [00:10<00:00, 22.52it/s]\n",
            "  0%|          | 0/234 [00:00<?, ?it/s]"
          ],
          "name": "stderr"
        },
        {
          "output_type": "stream",
          "text": [
            "\n",
            "Test set: Average loss: 0.5704, Accuracy1: 9927/10000 (99%), Accuracy2: 8717/10000 (87%)\n",
            "\n"
          ],
          "name": "stdout"
        },
        {
          "output_type": "stream",
          "text": [
            "loss=0.49169835448265076 batch_id=233: 100%|██████████| 234/234 [00:10<00:00, 22.23it/s]\n",
            "  0%|          | 0/234 [00:00<?, ?it/s]"
          ],
          "name": "stderr"
        },
        {
          "output_type": "stream",
          "text": [
            "\n",
            "Test set: Average loss: 0.5485, Accuracy1: 9928/10000 (99%), Accuracy2: 9046/10000 (90%)\n",
            "\n"
          ],
          "name": "stdout"
        },
        {
          "output_type": "stream",
          "text": [
            "loss=0.42605510354042053 batch_id=233: 100%|██████████| 234/234 [00:10<00:00, 22.33it/s]\n"
          ],
          "name": "stderr"
        },
        {
          "output_type": "stream",
          "text": [
            "\n",
            "Test set: Average loss: 0.4673, Accuracy1: 9932/10000 (99%), Accuracy2: 9211/10000 (92%)\n",
            "\n"
          ],
          "name": "stdout"
        }
      ]
    },
    {
      "cell_type": "markdown",
      "metadata": {
        "id": "Fus60p5qvp2N"
      },
      "source": [
        "## Results\n",
        "\n",
        "MNIST Accuracy -> **99.24%**\n",
        "\n",
        "MNIST + Random Number SUM Accuracy -> **92.5%**"
      ]
    },
    {
      "cell_type": "markdown",
      "metadata": {
        "id": "aKMs8BB1v_2t"
      },
      "source": [
        "### Validation using one random image from Test Loader"
      ]
    },
    {
      "cell_type": "code",
      "metadata": {
        "id": "6zDH7GCxxFop"
      },
      "source": [
        "inputs, labels = next(iter(test_loader))\n",
        "img, rando = inputs\n",
        "lab, sum = labels\n",
        "\n",
        "output = model(img.to('cuda'), rando.to('cuda'))\n",
        "pred1 = output[0].argmax(dim=1, keepdim=True)\n",
        "pred2 = output[1].argmax(dim=1, keepdim=True)"
      ],
      "execution_count": 30,
      "outputs": []
    },
    {
      "cell_type": "code",
      "metadata": {
        "colab": {
          "base_uri": "https://localhost:8080/",
          "height": 282
        },
        "id": "QDmElSF8nL4c",
        "outputId": "8893f2af-21e1-465a-f6b9-bfbfc4422bbe"
      },
      "source": [
        "import matplotlib.pyplot as plt\n",
        "\n",
        "some_random = random.randint(0,256)\n",
        "\n",
        "plt.imshow(img[some_random].squeeze(), cmap='gray')"
      ],
      "execution_count": 31,
      "outputs": [
        {
          "output_type": "execute_result",
          "data": {
            "text/plain": [
              "<matplotlib.image.AxesImage at 0x7efcd81dd4d0>"
            ]
          },
          "metadata": {
            "tags": []
          },
          "execution_count": 31
        },
        {
          "output_type": "display_data",
          "data": {
            "image/png": "[encoded data removed]",
            "text/plain": [
              "<Figure size 432x288 with 1 Axes>"
            ]
          },
          "metadata": {
            "tags": [],
            "needs_background": "light"
          }
        }
      ]
    },
    {
      "cell_type": "code",
      "metadata": {
        "colab": {
          "base_uri": "https://localhost:8080/"
        },
        "id": "sswKdTYancid",
        "outputId": "67a6e36e-f336-4d21-934f-8c007aa675af"
      },
      "source": [
        "print('Ground Truth MNIST: ', lab[some_random])\n",
        "print('Predicted MNIST: ', pred1[some_random])"
      ],
      "execution_count": 32,
      "outputs": [
        {
          "output_type": "stream",
          "text": [
            "Ground Truth MNIST:  tensor(0)\n",
            "Predicted MNIST:  tensor([0], device='cuda:0')\n"
          ],
          "name": "stdout"
        }
      ]
    },
    {
      "cell_type": "code",
      "metadata": {
        "colab": {
          "base_uri": "https://localhost:8080/"
        },
        "id": "H_qTy0Apnn41",
        "outputId": "92910dc7-34b8-41fa-e355-ee93a52737c6"
      },
      "source": [
        "print('Random Number: ', rando[some_random].argmax(dim=0).item())\n",
        "print('Ground Truth MNIST: ', lab[some_random])\n",
        "print('Ground Truth Random Number + MNIST: ', sum[some_random])\n",
        "print('Predicted Random Number + MNIST: ', pred2[some_random])"
      ],
      "execution_count": 33,
      "outputs": [
        {
          "output_type": "stream",
          "text": [
            "Random Number:  0\n",
            "Ground Truth MNIST:  tensor(0)\n",
            "Ground Truth Random Number + MNIST:  tensor(0)\n",
            "Predicted Random Number + MNIST:  tensor([0], device='cuda:0')\n"
          ],
          "name": "stdout"
        }
      ]
    },
    {
      "cell_type": "markdown",
      "metadata": {
        "id": "Uxcfqe4woP51"
      },
      "source": [
        "# ALL GOOD!"
      ]
    },
    {
      "cell_type": "markdown",
      "metadata": {
        "id": "ls-duoPEOTsh"
      },
      "source": [
        "# Visualizing Model"
      ]
    },
    {
      "cell_type": "code",
      "metadata": {
        "id": "QcjuYQwGOU9Z",
        "outputId": "fc68b0d5-33ab-4ece-e507-ad903139e8bd",
        "colab": {
          "base_uri": "https://localhost:8080/"
        }
      },
      "source": [
        "!pip3 install graphviz\n",
        "!pip3 install hiddenlayer"
      ],
      "execution_count": 34,
      "outputs": [
        {
          "output_type": "stream",
          "text": [
            "Requirement already satisfied: graphviz in /usr/local/lib/python3.7/dist-packages (0.10.1)\n",
            "Collecting hiddenlayer\n",
            "  Downloading https://files.pythonhosted.org/packages/64/f8/ea51d02695a4dc397f3b2487fae462cd3f2ce707c54250e0fdfaec2ff92e/hiddenlayer-0.3-py3-none-any.whl\n",
            "Installing collected packages: hiddenlayer\n",
            "Successfully installed hiddenlayer-0.3\n"
          ],
          "name": "stdout"
        }
      ]
    },
    {
      "cell_type": "code",
      "metadata": {
        "colab": {
          "base_uri": "https://localhost:8080/",
          "height": 478
        },
        "id": "TSKG_96HOtZh",
        "outputId": "43742573-5782-47fe-919e-3be538c9cb16"
      },
      "source": [
        "import hiddenlayer as hl\n",
        "hl.build_graph(model, (torch.zeros([1, 1, 28, 28]).to('cuda'), torch.zeros(1,10).to('cuda')))"
      ],
      "execution_count": 35,
      "outputs": [
        {
          "output_type": "execute_result",
          "data": {
            "text/plain": [
              "<hiddenlayer.graph.Graph at 0x7efcd9d34d10>"
            ],
            "image/svg+xml": "<?xml version=\"1.0\" encoding=\"UTF-8\" standalone=\"no\"?>\n<!DOCTYPE svg PUBLIC \"-//W3C//DTD SVG 1.1//EN\"\n \"http://www.w3.org/Graphics/SVG/1.1/DTD/svg11.dtd\">\n<!-- Generated by graphviz version 2.40.1 (20161225.0304)\n -->\n<!-- Title: %3 Pages: 1 -->\n<svg width=\"1157pt\" height=\"328pt\"\n viewBox=\"0.00 0.00 1157.00 328.00\" xmlns=\"http://www.w3.org/2000/svg\" xmlns:xlink=\"http://www.w3.org/1999/xlink\">\n<g id=\"graph0\" class=\"graph\" transform=\"scale(1 1) rotate(0) translate(72 292)\">\n<title>%3</title>\n<polygon fill=\"#ffffff\" stroke=\"transparent\" points=\"-72,36 -72,-292 1085,-292 1085,36 -72,36\"/>\n<!-- /outputs/23 -->\n<g id=\"node1\" class=\"node\">\n<title>/outputs/23</title>\n<polygon fill=\"#e8e8e8\" stroke=\"#000000\" points=\"190,-40 120,-40 120,-4 190,-4 190,-40\"/>\n<text text-anchor=\"start\" x=\"128\" y=\"-19\" font-family=\"Times\" font-size=\"10.00\" fill=\"#000000\">MaxPool2x2</text>\n</g>\n<!-- 1424886889507256064 -->\n<g id=\"node13\" class=\"node\">\n<title>1424886889507256064</title>\n<polygon fill=\"#e8e8e8\" stroke=\"#000000\" points=\"310,-44 226,-44 226,0 310,0 310,-44\"/>\n<text text-anchor=\"start\" x=\"234\" y=\"-28\" font-family=\"Times\" font-size=\"10.00\" fill=\"#000000\">Conv3x3 &gt; Relu</text>\n<text text-anchor=\"start\" x=\"295\" y=\"-7\" font-family=\"Times\" font-size=\"10.00\" fill=\"#000000\">x2</text>\n</g>\n<!-- /outputs/23&#45;&gt;1424886889507256064 -->\n<g id=\"edge6\" class=\"edge\">\n<title>/outputs/23&#45;&gt;1424886889507256064</title>\n<path fill=\"none\" stroke=\"#000000\" d=\"M190.1345,-22C198.237,-22 207.0271,-22 215.6853,-22\"/>\n<polygon fill=\"#000000\" stroke=\"#000000\" points=\"215.7397,-25.5001 225.7397,-22 215.7396,-18.5001 215.7397,-25.5001\"/>\n</g>\n<!-- /outputs/28 -->\n<g id=\"node2\" class=\"node\">\n<title>/outputs/28</title>\n<polygon fill=\"#e8e8e8\" stroke=\"#000000\" points=\"416,-40 346,-40 346,-4 416,-4 416,-40\"/>\n<text text-anchor=\"start\" x=\"354\" y=\"-19\" font-family=\"Times\" font-size=\"10.00\" fill=\"#000000\">MaxPool2x2</text>\n</g>\n<!-- 4119786237680536949 -->\n<g id=\"node14\" class=\"node\">\n<title>4119786237680536949</title>\n<polygon fill=\"#e8e8e8\" stroke=\"#000000\" points=\"536,-44 452,-44 452,0 536,0 536,-44\"/>\n<text text-anchor=\"start\" x=\"460\" y=\"-28\" font-family=\"Times\" font-size=\"10.00\" fill=\"#000000\">Conv3x3 &gt; Relu</text>\n<text text-anchor=\"start\" x=\"521\" y=\"-7\" font-family=\"Times\" font-size=\"10.00\" fill=\"#000000\">x2</text>\n</g>\n<!-- /outputs/28&#45;&gt;4119786237680536949 -->\n<g id=\"edge8\" class=\"edge\">\n<title>/outputs/28&#45;&gt;4119786237680536949</title>\n<path fill=\"none\" stroke=\"#000000\" d=\"M416.1345,-22C424.237,-22 433.0271,-22 441.6853,-22\"/>\n<polygon fill=\"#000000\" stroke=\"#000000\" points=\"441.7397,-25.5001 451.7397,-22 441.7396,-18.5001 441.7397,-25.5001\"/>\n</g>\n<!-- /outputs/33 -->\n<g id=\"node3\" class=\"node\">\n<title>/outputs/33</title>\n<polygon fill=\"#e8e8e8\" stroke=\"#000000\" points=\"627,-40 572,-40 572,-4 627,-4 627,-40\"/>\n<text text-anchor=\"start\" x=\"580.5\" y=\"-19\" font-family=\"Times\" font-size=\"10.00\" fill=\"#000000\">Conv3x3</text>\n</g>\n<!-- /outputs/35 -->\n<g id=\"node5\" class=\"node\">\n<title>/outputs/35</title>\n<polygon fill=\"#e8e8e8\" stroke=\"#000000\" points=\"717,-67 663,-67 663,-31 717,-31 717,-67\"/>\n<text text-anchor=\"start\" x=\"673\" y=\"-46\" font-family=\"Times\" font-size=\"10.00\" fill=\"#000000\">Reshape</text>\n</g>\n<!-- /outputs/33&#45;&gt;/outputs/35 -->\n<g id=\"edge1\" class=\"edge\">\n<title>/outputs/33&#45;&gt;/outputs/35</title>\n<path fill=\"none\" stroke=\"#000000\" d=\"M627.1447,-30.2476C635.3781,-32.704 644.5327,-35.4352 653.2506,-38.0361\"/>\n<polygon fill=\"#000000\" stroke=\"#000000\" points=\"652.2522,-41.3906 662.8355,-40.8957 654.2535,-34.6828 652.2522,-41.3906\"/>\n</g>\n<!-- /outputs/34 -->\n<g id=\"node4\" class=\"node\">\n<title>/outputs/34</title>\n<polygon fill=\"#e8e8e8\" stroke=\"#000000\" points=\"626.5,-94 572.5,-94 572.5,-58 626.5,-58 626.5,-94\"/>\n<text text-anchor=\"start\" x=\"581.5\" y=\"-73\" font-family=\"Times\" font-size=\"10.00\" fill=\"#000000\">Constant</text>\n</g>\n<!-- /outputs/34&#45;&gt;/outputs/35 -->\n<g id=\"edge2\" class=\"edge\">\n<title>/outputs/34&#45;&gt;/outputs/35</title>\n<path fill=\"none\" stroke=\"#000000\" d=\"M626.653,-67.8991C634.9753,-65.4162 644.2754,-62.6416 653.1316,-59.9994\"/>\n<polygon fill=\"#000000\" stroke=\"#000000\" points=\"654.2842,-63.3081 662.8662,-57.0952 652.2829,-56.6002 654.2842,-63.3081\"/>\n</g>\n<!-- /outputs/36 -->\n<g id=\"node6\" class=\"node\">\n<title>/outputs/36</title>\n<polygon fill=\"#e8e8e8\" stroke=\"#000000\" points=\"813.5,-94 759.5,-94 759.5,-58 813.5,-58 813.5,-94\"/>\n<text text-anchor=\"start\" x=\"771.5\" y=\"-73\" font-family=\"Times\" font-size=\"10.00\" fill=\"#000000\">Concat</text>\n</g>\n<!-- /outputs/35&#45;&gt;/outputs/36 -->\n<g id=\"edge3\" class=\"edge\">\n<title>/outputs/35&#45;&gt;/outputs/36</title>\n<path fill=\"none\" stroke=\"#000000\" d=\"M717.1374,-56.5929C727.1074,-59.3824 738.5754,-62.591 749.2785,-65.5857\"/>\n<polygon fill=\"#000000\" stroke=\"#000000\" points=\"748.6587,-69.0466 759.2319,-68.3706 750.5448,-62.3055 748.6587,-69.0466\"/>\n</g>\n<!-- /outputs/43 -->\n<g id=\"node10\" class=\"node\">\n<title>/outputs/43</title>\n<polygon fill=\"#e8e8e8\" stroke=\"#000000\" points=\"820,-40 753,-40 753,-4 820,-4 820,-40\"/>\n<text text-anchor=\"start\" x=\"761.5\" y=\"-19\" font-family=\"Times\" font-size=\"10.00\" fill=\"#000000\">LogSoftmax</text>\n</g>\n<!-- /outputs/35&#45;&gt;/outputs/43 -->\n<g id=\"edge4\" class=\"edge\">\n<title>/outputs/35&#45;&gt;/outputs/43</title>\n<path fill=\"none\" stroke=\"#000000\" d=\"M717.1374,-41.4071C725.1571,-39.1633 734.1461,-36.6482 742.9266,-34.1915\"/>\n<polygon fill=\"#000000\" stroke=\"#000000\" points=\"744.0015,-37.5253 752.6886,-31.4602 742.1154,-30.7841 744.0015,-37.5253\"/>\n</g>\n<!-- 7479054122145134121 -->\n<g id=\"node15\" class=\"node\">\n<title>7479054122145134121</title>\n<polygon fill=\"#e8e8e8\" stroke=\"#000000\" points=\"910,-179 856,-179 856,-135 910,-135 910,-179\"/>\n<text text-anchor=\"start\" x=\"866\" y=\"-163\" font-family=\"Times\" font-size=\"10.00\" fill=\"#000000\">MatMul</text>\n<text text-anchor=\"start\" x=\"893\" y=\"-142\" font-family=\"Times\" font-size=\"10.00\" fill=\"#000000\">x3</text>\n</g>\n<!-- /outputs/36&#45;&gt;7479054122145134121 -->\n<g id=\"edge11\" class=\"edge\">\n<title>/outputs/36&#45;&gt;7479054122145134121</title>\n<path fill=\"none\" stroke=\"#000000\" d=\"M809.2809,-94.2076C812.8821,-97.1299 816.5534,-100.135 820,-103 829.6933,-111.0574 840.1203,-119.9154 849.647,-128.0854\"/>\n<polygon fill=\"#000000\" stroke=\"#000000\" points=\"847.5376,-130.8875 857.4019,-134.7536 852.1016,-125.5799 847.5376,-130.8875\"/>\n</g>\n<!-- /outputs/37 -->\n<g id=\"node7\" class=\"node\">\n<title>/outputs/37</title>\n<polygon fill=\"#e8e8e8\" stroke=\"#000000\" points=\"815.5,-256 757.5,-256 757.5,-220 815.5,-220 815.5,-256\"/>\n<text text-anchor=\"start\" x=\"765.5\" y=\"-235\" font-family=\"Times\" font-size=\"10.00\" fill=\"#000000\">Transpose</text>\n</g>\n<!-- /outputs/37&#45;&gt;7479054122145134121 -->\n<g id=\"edge12\" class=\"edge\">\n<title>/outputs/37&#45;&gt;7479054122145134121</title>\n<path fill=\"none\" stroke=\"#000000\" d=\"M809.2809,-219.7924C812.8821,-216.8701 816.5534,-213.865 820,-211 829.6933,-202.9426 840.1203,-194.0846 849.647,-185.9146\"/>\n<polygon fill=\"#000000\" stroke=\"#000000\" points=\"852.1016,-188.4201 857.4019,-179.2464 847.5376,-183.1125 852.1016,-188.4201\"/>\n</g>\n<!-- /outputs/39 -->\n<g id=\"node8\" class=\"node\">\n<title>/outputs/39</title>\n<polygon fill=\"#e8e8e8\" stroke=\"#000000\" points=\"815.5,-202 757.5,-202 757.5,-166 815.5,-166 815.5,-202\"/>\n<text text-anchor=\"start\" x=\"765.5\" y=\"-181\" font-family=\"Times\" font-size=\"10.00\" fill=\"#000000\">Transpose</text>\n</g>\n<!-- /outputs/39&#45;&gt;7479054122145134121 -->\n<g id=\"edge13\" class=\"edge\">\n<title>/outputs/39&#45;&gt;7479054122145134121</title>\n<path fill=\"none\" stroke=\"#000000\" d=\"M815.7151,-175.8258C825.2842,-173.1485 836.043,-170.1382 846.1036,-167.3233\"/>\n<polygon fill=\"#000000\" stroke=\"#000000\" points=\"847.1745,-170.6582 855.8616,-164.5931 845.2883,-163.9171 847.1745,-170.6582\"/>\n</g>\n<!-- /outputs/41 -->\n<g id=\"node9\" class=\"node\">\n<title>/outputs/41</title>\n<polygon fill=\"#e8e8e8\" stroke=\"#000000\" points=\"815.5,-148 757.5,-148 757.5,-112 815.5,-112 815.5,-148\"/>\n<text text-anchor=\"start\" x=\"765.5\" y=\"-127\" font-family=\"Times\" font-size=\"10.00\" fill=\"#000000\">Transpose</text>\n</g>\n<!-- /outputs/41&#45;&gt;7479054122145134121 -->\n<g id=\"edge10\" class=\"edge\">\n<title>/outputs/41&#45;&gt;7479054122145134121</title>\n<path fill=\"none\" stroke=\"#000000\" d=\"M815.7151,-138.1742C825.2842,-140.8515 836.043,-143.8618 846.1036,-146.6767\"/>\n<polygon fill=\"#000000\" stroke=\"#000000\" points=\"845.2883,-150.0829 855.8616,-149.4069 847.1745,-143.3418 845.2883,-150.0829\"/>\n</g>\n<!-- /outputs/44 -->\n<g id=\"node11\" class=\"node\">\n<title>/outputs/44</title>\n<polygon fill=\"#e8e8e8\" stroke=\"#000000\" points=\"1013,-175 946,-175 946,-139 1013,-139 1013,-175\"/>\n<text text-anchor=\"start\" x=\"954.5\" y=\"-154\" font-family=\"Times\" font-size=\"10.00\" fill=\"#000000\">LogSoftmax</text>\n</g>\n<!-- 17835601450273936359 -->\n<g id=\"node12\" class=\"node\">\n<title>17835601450273936359</title>\n<polygon fill=\"#e8e8e8\" stroke=\"#000000\" points=\"84,-44 0,-44 0,0 84,0 84,-44\"/>\n<text text-anchor=\"start\" x=\"8\" y=\"-28\" font-family=\"Times\" font-size=\"10.00\" fill=\"#000000\">Conv3x3 &gt; Relu</text>\n<text text-anchor=\"start\" x=\"69\" y=\"-7\" font-family=\"Times\" font-size=\"10.00\" fill=\"#000000\">x2</text>\n</g>\n<!-- 17835601450273936359&#45;&gt;/outputs/23 -->\n<g id=\"edge5\" class=\"edge\">\n<title>17835601450273936359&#45;&gt;/outputs/23</title>\n<path fill=\"none\" stroke=\"#000000\" d=\"M84.077,-22C92.4638,-22 101.305,-22 109.7918,-22\"/>\n<polygon fill=\"#000000\" stroke=\"#000000\" points=\"109.9138,-25.5001 119.9138,-22 109.9138,-18.5001 109.9138,-25.5001\"/>\n</g>\n<!-- 1424886889507256064&#45;&gt;/outputs/28 -->\n<g id=\"edge7\" class=\"edge\">\n<title>1424886889507256064&#45;&gt;/outputs/28</title>\n<path fill=\"none\" stroke=\"#000000\" d=\"M310.077,-22C318.4638,-22 327.305,-22 335.7918,-22\"/>\n<polygon fill=\"#000000\" stroke=\"#000000\" points=\"335.9138,-25.5001 345.9138,-22 335.9138,-18.5001 335.9138,-25.5001\"/>\n</g>\n<!-- 4119786237680536949&#45;&gt;/outputs/33 -->\n<g id=\"edge9\" class=\"edge\">\n<title>4119786237680536949&#45;&gt;/outputs/33</title>\n<path fill=\"none\" stroke=\"#000000\" d=\"M536.303,-22C544.6869,-22 553.4376,-22 561.6615,-22\"/>\n<polygon fill=\"#000000\" stroke=\"#000000\" points=\"561.7294,-25.5001 571.7294,-22 561.7294,-18.5001 561.7294,-25.5001\"/>\n</g>\n<!-- 7479054122145134121&#45;&gt;/outputs/44 -->\n<g id=\"edge14\" class=\"edge\">\n<title>7479054122145134121&#45;&gt;/outputs/44</title>\n<path fill=\"none\" stroke=\"#000000\" d=\"M910.1374,-157C918.0709,-157 926.9529,-157 935.6433,-157\"/>\n<polygon fill=\"#000000\" stroke=\"#000000\" points=\"935.6887,-160.5001 945.6886,-157 935.6886,-153.5001 935.6887,-160.5001\"/>\n</g>\n</g>\n</svg>\n"
          },
          "metadata": {
            "tags": []
          },
          "execution_count": 35
        }
      ]
    },
    {
      "cell_type": "code",
      "metadata": {
        "id": "4ZUyHkxhPZzQ"
      },
      "source": [
        ""
      ],
      "execution_count": 35,
      "outputs": []
    }
  ]
}
